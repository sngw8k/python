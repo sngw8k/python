{
 "cells": [
  {
   "cell_type": "code",
   "execution_count": 16,
   "id": "3d3e9335-e2e2-429b-867e-031969363873",
   "metadata": {},
   "outputs": [
    {
     "name": "stdout",
     "output_type": "stream",
     "text": [
      "['서울', '대구', '대전']\n",
      "서울\n",
      "['서울', '부산', '대전']\n"
     ]
    }
   ],
   "source": [
    "location = ['서울', '대구', '대전']\n",
    "print(location)\n",
    "print(location[0])\n",
    "location[1] = '부산'\n",
    "print(location)"
   ]
  },
  {
   "cell_type": "code",
   "execution_count": 17,
   "id": "2600d0bc-470a-47b3-8601-395d3cada78b",
   "metadata": {},
   "outputs": [
    {
     "name": "stdout",
     "output_type": "stream",
     "text": [
      "['서울', '부산', '대전', '인천']\n",
      "['부산', '대전', '인천']\n",
      "['수원', '용인', '청주', '부산', '대전', '인천']\n"
     ]
    }
   ],
   "source": [
    "# List 마지막에 추가\n",
    "location.append('인천')\n",
    "\n",
    "print(location)\n",
    "\n",
    "# index에 해당하는 항목 삭제\n",
    "del location[0]\n",
    "\n",
    "print(location)\n",
    "location2 = ['수원', '용인', '청주']\n",
    "\n",
    "#  List에 List 추가\n",
    "location2.extend(location)\n",
    "\n",
    "print(location2)"
   ]
  },
  {
   "cell_type": "code",
   "execution_count": 18,
   "id": "cc52696f-8e3a-4f9b-bcfd-f410f8039c6b",
   "metadata": {},
   "outputs": [
    {
     "name": "stdin",
     "output_type": "stream",
     "text": [
      "점수를 입력하세요: 85\n"
     ]
    },
    {
     "name": "stdout",
     "output_type": "stream",
     "text": [
      "B\n",
      "참잘했어요\n"
     ]
    }
   ],
   "source": [
    "# 90점 이상 A   (85점이상 '참잘했어요')\n",
    "# 80점 이상 B\n",
    "# 70점 이상 C\n",
    "# 나머지 F\n",
    "score2 = int(input('점수를 입력하세요:'))\n",
    "\n",
    "if score2 >= 90:\n",
    "    print('A')\n",
    "elif score2 >= 80:\n",
    "    print('B')\n",
    "elif score2 >= 70:\n",
    "    print('C')\n",
    "else:\n",
    "    print('F')\n",
    "\n",
    "if score2 >= 85:\n",
    "    print('참잘했어요')\n",
    "else:\n",
    "    print('화이팅')"
   ]
  }
 ],
 "metadata": {
  "kernelspec": {
   "display_name": "Python 3 (ipykernel)",
   "language": "python",
   "name": "python3"
  },
  "language_info": {
   "codemirror_mode": {
    "name": "ipython",
    "version": 3
   },
   "file_extension": ".py",
   "mimetype": "text/x-python",
   "name": "python",
   "nbconvert_exporter": "python",
   "pygments_lexer": "ipython3",
   "version": "3.11.4"
  }
 },
 "nbformat": 4,
 "nbformat_minor": 5
}
