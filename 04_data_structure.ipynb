{
 "cells": [
  {
   "cell_type": "code",
   "execution_count": 1,
   "id": "4f739f07-9725-4ec7-918c-2941b85c86e3",
   "metadata": {},
   "outputs": [
    {
     "data": {
      "text/plain": [
       "'123'"
      ]
     },
     "execution_count": 1,
     "metadata": {},
     "output_type": "execute_result"
    }
   ],
   "source": [
    "''.join(['1', '2', '3'])"
   ]
  },
  {
   "cell_type": "code",
   "execution_count": 2,
   "id": "4ef08faf-3324-49b3-b8ff-a5c2f276d039",
   "metadata": {},
   "outputs": [
    {
     "data": {
      "text/plain": [
       "['__add__',\n",
       " '__class__',\n",
       " '__contains__',\n",
       " '__delattr__',\n",
       " '__dir__',\n",
       " '__doc__',\n",
       " '__eq__',\n",
       " '__format__',\n",
       " '__ge__',\n",
       " '__getattribute__',\n",
       " '__getitem__',\n",
       " '__getnewargs__',\n",
       " '__getstate__',\n",
       " '__gt__',\n",
       " '__hash__',\n",
       " '__init__',\n",
       " '__init_subclass__',\n",
       " '__iter__',\n",
       " '__le__',\n",
       " '__len__',\n",
       " '__lt__',\n",
       " '__mod__',\n",
       " '__mul__',\n",
       " '__ne__',\n",
       " '__new__',\n",
       " '__reduce__',\n",
       " '__reduce_ex__',\n",
       " '__repr__',\n",
       " '__rmod__',\n",
       " '__rmul__',\n",
       " '__setattr__',\n",
       " '__sizeof__',\n",
       " '__str__',\n",
       " '__subclasshook__',\n",
       " 'capitalize',\n",
       " 'casefold',\n",
       " 'center',\n",
       " 'count',\n",
       " 'encode',\n",
       " 'endswith',\n",
       " 'expandtabs',\n",
       " 'find',\n",
       " 'format',\n",
       " 'format_map',\n",
       " 'index',\n",
       " 'isalnum',\n",
       " 'isalpha',\n",
       " 'isascii',\n",
       " 'isdecimal',\n",
       " 'isdigit',\n",
       " 'isidentifier',\n",
       " 'islower',\n",
       " 'isnumeric',\n",
       " 'isprintable',\n",
       " 'isspace',\n",
       " 'istitle',\n",
       " 'isupper',\n",
       " 'join',\n",
       " 'ljust',\n",
       " 'lower',\n",
       " 'lstrip',\n",
       " 'maketrans',\n",
       " 'partition',\n",
       " 'removeprefix',\n",
       " 'removesuffix',\n",
       " 'replace',\n",
       " 'rfind',\n",
       " 'rindex',\n",
       " 'rjust',\n",
       " 'rpartition',\n",
       " 'rsplit',\n",
       " 'rstrip',\n",
       " 'split',\n",
       " 'splitlines',\n",
       " 'startswith',\n",
       " 'strip',\n",
       " 'swapcase',\n",
       " 'title',\n",
       " 'translate',\n",
       " 'upper',\n",
       " 'zfill']"
      ]
     },
     "execution_count": 2,
     "metadata": {},
     "output_type": "execute_result"
    }
   ],
   "source": [
    "dir('hello')"
   ]
  },
  {
   "cell_type": "markdown",
   "id": "e1a1d2d2-3a4d-4ba0-bfc5-1e5e954e509d",
   "metadata": {},
   "source": [
    "# 1. 문자열 메소드"
   ]
  },
  {
   "cell_type": "code",
   "execution_count": 13,
   "id": "c5a4a63b-cbf9-43f9-bb30-f8e028edaa5c",
   "metadata": {},
   "outputs": [],
   "source": [
    "a = 'hello my name is'"
   ]
  },
  {
   "cell_type": "code",
   "execution_count": 4,
   "id": "dd4a6fcc-9b7f-4e1e-b679-e2f8789e2e1a",
   "metadata": {},
   "outputs": [
    {
     "ename": "TypeError",
     "evalue": "'str' object does not support item assignment",
     "output_type": "error",
     "traceback": [
      "\u001b[1;31m---------------------------------------------------------------------------\u001b[0m",
      "\u001b[1;31mTypeError\u001b[0m                                 Traceback (most recent call last)",
      "Cell \u001b[1;32mIn[4], line 2\u001b[0m\n\u001b[0;32m      1\u001b[0m \u001b[38;5;66;03m# str은 immutable\u001b[39;00m\n\u001b[1;32m----> 2\u001b[0m \u001b[43ma\u001b[49m\u001b[43m[\u001b[49m\u001b[38;5;241;43m0\u001b[39;49m\u001b[43m]\u001b[49m \u001b[38;5;241m=\u001b[39m \u001b[38;5;124m'\u001b[39m\u001b[38;5;124mH\u001b[39m\u001b[38;5;124m'\u001b[39m\n",
      "\u001b[1;31mTypeError\u001b[0m: 'str' object does not support item assignment"
     ]
    }
   ],
   "source": [
    "# str은 immutable\n",
    "a[0] = 'H'"
   ]
  },
  {
   "cell_type": "code",
   "execution_count": 14,
   "id": "4cea4fac-2976-46e3-8171-6644f42f0c71",
   "metadata": {},
   "outputs": [
    {
     "data": {
      "text/plain": [
       "'Hello my name is'"
      ]
     },
     "execution_count": 14,
     "metadata": {},
     "output_type": "execute_result"
    }
   ],
   "source": [
    "# capitalize()는 원본을 바꾸지는 않는다\n",
    "a.capitalize()"
   ]
  },
  {
   "cell_type": "code",
   "execution_count": 15,
   "id": "a6870e8d-2670-4ec8-bd4e-47c3cb546b40",
   "metadata": {},
   "outputs": [
    {
     "name": "stdout",
     "output_type": "stream",
     "text": [
      "hello my name is\n"
     ]
    }
   ],
   "source": [
    "print(a)"
   ]
  },
  {
   "cell_type": "code",
   "execution_count": 16,
   "id": "a685514e-b23b-4412-93d5-e8770baa998e",
   "metadata": {},
   "outputs": [
    {
     "data": {
      "text/plain": [
       "'Hello My Name Is'"
      ]
     },
     "execution_count": 16,
     "metadata": {},
     "output_type": "execute_result"
    }
   ],
   "source": [
    "a.title()"
   ]
  },
  {
   "cell_type": "code",
   "execution_count": 17,
   "id": "84f72068-88b2-40d8-a1f5-208e7e7fef36",
   "metadata": {},
   "outputs": [
    {
     "data": {
      "text/plain": [
       "'HELLO MY NAME IS'"
      ]
     },
     "execution_count": 17,
     "metadata": {},
     "output_type": "execute_result"
    }
   ],
   "source": [
    "a.upper()"
   ]
  },
  {
   "cell_type": "code",
   "execution_count": 19,
   "id": "27d53fd2-21c6-4097-a247-92a74a15a030",
   "metadata": {},
   "outputs": [
    {
     "data": {
      "text/plain": [
       "'hi,my,name'"
      ]
     },
     "execution_count": 19,
     "metadata": {},
     "output_type": "execute_result"
    }
   ],
   "source": [
    "#''.join(iterable)\n",
    "\n",
    "my_list = ['hi', 'my', 'name']\n",
    "','.join(my_list)"
   ]
  },
  {
   "cell_type": "code",
   "execution_count": 22,
   "id": "d42a73a8-653f-402f-8c79-68cf7d6e91a2",
   "metadata": {},
   "outputs": [
    {
     "data": {
      "text/plain": [
       "'w!!!!!ooooow'"
      ]
     },
     "execution_count": 22,
     "metadata": {},
     "output_type": "execute_result"
    }
   ],
   "source": [
    "# .replace(old, new[, count])\n",
    "'woooooooooow'.replace('o', '!', 5)"
   ]
  },
  {
   "cell_type": "code",
   "execution_count": 31,
   "id": "dd0c4c3d-5f64-4b67-af27-ec13976838b5",
   "metadata": {},
   "outputs": [
    {
     "name": "stdout",
     "output_type": "stream",
     "text": [
      "     hello\n",
      "\n",
      "hello\n",
      "ello\n",
      "ellohihihihi\n",
      "hihihihihello\n"
     ]
    }
   ],
   "source": [
    "# .strip([chars])\n",
    "my_string = '     hello\\n'\n",
    "print(my_string)\n",
    "print(my_string.strip())\n",
    "\n",
    "my_string2 = 'hihihihihellohihihihi'\n",
    "print(my_string2.strip('hi'))\n",
    "print(my_string2.lstrip('hi'))\n",
    "print(my_string2.rstrip('hi'))"
   ]
  },
  {
   "cell_type": "code",
   "execution_count": 39,
   "id": "20f18a96-c3ed-4cd5-ab60-04252f58b7a8",
   "metadata": {},
   "outputs": [
    {
     "name": "stdout",
     "output_type": "stream",
     "text": [
      "3\n",
      "-1\n",
      "1\n",
      "2\n"
     ]
    }
   ],
   "source": [
    "# .find(x) - 있으면 인덱스 찾아서 반환/ 없으면 -1\n",
    "\n",
    "a = 'apple'\n",
    "print(a.find('l'))\n",
    "print(a.find('z'))\n",
    "\n",
    "# 중복되는 인자를 모두 출력하고 싶을 때\n",
    "for i in range(len(a)):\n",
    "    if 'p' == a[i]:\n",
    "        print(i)"
   ]
  },
  {
   "cell_type": "code",
   "execution_count": 37,
   "id": "f8e274c2-e731-44cf-9d21-a8175a0c84d6",
   "metadata": {},
   "outputs": [
    {
     "name": "stdout",
     "output_type": "stream",
     "text": [
      "3\n"
     ]
    },
    {
     "ename": "ValueError",
     "evalue": "substring not found",
     "output_type": "error",
     "traceback": [
      "\u001b[1;31m---------------------------------------------------------------------------\u001b[0m",
      "\u001b[1;31mValueError\u001b[0m                                Traceback (most recent call last)",
      "Cell \u001b[1;32mIn[37], line 4\u001b[0m\n\u001b[0;32m      2\u001b[0m a \u001b[38;5;241m=\u001b[39m \u001b[38;5;124m'\u001b[39m\u001b[38;5;124mapple\u001b[39m\u001b[38;5;124m'\u001b[39m\n\u001b[0;32m      3\u001b[0m \u001b[38;5;28mprint\u001b[39m(a\u001b[38;5;241m.\u001b[39mindex(\u001b[38;5;124m'\u001b[39m\u001b[38;5;124ml\u001b[39m\u001b[38;5;124m'\u001b[39m))\n\u001b[1;32m----> 4\u001b[0m \u001b[38;5;28mprint\u001b[39m(\u001b[43ma\u001b[49m\u001b[38;5;241;43m.\u001b[39;49m\u001b[43mindex\u001b[49m\u001b[43m(\u001b[49m\u001b[38;5;124;43m'\u001b[39;49m\u001b[38;5;124;43mz\u001b[39;49m\u001b[38;5;124;43m'\u001b[39;49m\u001b[43m)\u001b[49m)\n",
      "\u001b[1;31mValueError\u001b[0m: substring not found"
     ]
    }
   ],
   "source": [
    "# .index(x) - 없으면 에러\n",
    "a = 'apple'\n",
    "print(a.index('l'))\n",
    "print(a.index('z'))"
   ]
  },
  {
   "cell_type": "code",
   "execution_count": 42,
   "id": "09413ca7-3c77-465d-83ef-34a748cd2250",
   "metadata": {},
   "outputs": [
    {
     "data": {
      "text/plain": [
       "['my', 'name', 'is', 'hong']"
      ]
     },
     "execution_count": 42,
     "metadata": {},
     "output_type": "execute_result"
    }
   ],
   "source": [
    "# .split(x)\n",
    "\n",
    "a = 'my_name_is_hong'\n",
    "a.split('_')"
   ]
  },
  {
   "cell_type": "code",
   "execution_count": 43,
   "id": "79d9bbae-c04a-41ad-975f-2c6360743a04",
   "metadata": {},
   "outputs": [
    {
     "data": {
      "text/plain": [
       "7"
      ]
     },
     "execution_count": 43,
     "metadata": {},
     "output_type": "execute_result"
    }
   ],
   "source": [
    "# .count(x)\n",
    "\n",
    "a = 'wooooooow'\n",
    "a.count('o')"
   ]
  },
  {
   "cell_type": "markdown",
   "id": "c4894e21-64bb-4f8e-a395-a93dd30213b8",
   "metadata": {},
   "source": [
    "# 2. 리스트 메소드"
   ]
  },
  {
   "cell_type": "code",
   "execution_count": 53,
   "id": "4a150807-7f61-4ebc-afcb-51f42838f606",
   "metadata": {},
   "outputs": [],
   "source": [
    "numbers = [1, 2, 2, 5, 2, 1, 7, 2, 4, 4]"
   ]
  },
  {
   "cell_type": "code",
   "execution_count": 54,
   "id": "40c2ace1-a699-4219-a671-165ec54887a0",
   "metadata": {},
   "outputs": [
    {
     "name": "stdout",
     "output_type": "stream",
     "text": [
      "[1, 2, 2, 5, 2, 1, 7, 2, 4, 4, 10]\n"
     ]
    }
   ],
   "source": [
    "# .append(x) - 원본에 추가\n",
    "\n",
    "numbers.append(10)\n",
    "print(numbers)"
   ]
  },
  {
   "cell_type": "code",
   "execution_count": 55,
   "id": "b85875f8-ced8-4805-a9ff-d556d0a41086",
   "metadata": {},
   "outputs": [
    {
     "name": "stdout",
     "output_type": "stream",
     "text": [
      "[1, 2, 2, 5, 2, 1, 7, 2, 4, 4, 10, 99, 100]\n",
      "[1, 2, 2, 5, 2, 1, 7, 2, 4, 4, 10, 99, 100, 99, 100]\n"
     ]
    }
   ],
   "source": [
    "# .extend(iterable)\n",
    "\n",
    "a = [99, 100]\n",
    "numbers.extend(a)\n",
    "print(numbers)\n",
    "print(numbers + a)"
   ]
  },
  {
   "cell_type": "code",
   "execution_count": 56,
   "id": "f760c9e0-faeb-44f4-a85a-1adcb6ef717c",
   "metadata": {},
   "outputs": [
    {
     "name": "stdout",
     "output_type": "stream",
     "text": [
      "[1, 2, 2, 111, 5, 2, 1, 7, 2, 4, 4, 10, 99, 100]\n"
     ]
    }
   ],
   "source": [
    "# insert(idx, x)\n",
    "numbers.insert(3, 111)\n",
    "print(numbers)"
   ]
  },
  {
   "cell_type": "code",
   "execution_count": 57,
   "id": "b9962ed0-5eb7-47d9-be2d-25096ccd94ee",
   "metadata": {},
   "outputs": [
    {
     "name": "stdout",
     "output_type": "stream",
     "text": [
      "[1, 2, 2, 5, 2, 1, 7, 2, 4, 4, 10, 99, 100]\n"
     ]
    }
   ],
   "source": [
    "# .remove(x)\n",
    "numbers.remove(111)\n",
    "print(numbers)"
   ]
  },
  {
   "cell_type": "code",
   "execution_count": 60,
   "id": "05bb5730-3340-40d6-9492-f517fbdbe6a7",
   "metadata": {},
   "outputs": [
    {
     "name": "stdout",
     "output_type": "stream",
     "text": [
      "[1, 2, 2, 5, 2, 1, 7, 2, 4, 4]\n"
     ]
    }
   ],
   "source": [
    "# .pop([idx]) - idx 안적으면 맨뒤 제거\n",
    "numbers.pop()\n",
    "print(numbers)"
   ]
  },
  {
   "cell_type": "code",
   "execution_count": 62,
   "id": "00adcc0a-70b2-4674-b34e-b26e116c790c",
   "metadata": {},
   "outputs": [
    {
     "name": "stdout",
     "output_type": "stream",
     "text": [
      "[1, 1, 2, 2, 2, 2, 4, 4, 5, 7]\n",
      "[7, 5, 4, 4, 2, 2, 2, 2, 1, 1]\n"
     ]
    }
   ],
   "source": [
    "# .sort()\n",
    "numbers.sort()\n",
    "print(numbers)\n",
    "numbers.sort(reverse=True)\n",
    "print(numbers)"
   ]
  },
  {
   "cell_type": "code",
   "execution_count": 65,
   "id": "d8177f68-4944-466b-bdb0-161c287016c1",
   "metadata": {},
   "outputs": [
    {
     "name": "stdout",
     "output_type": "stream",
     "text": [
      "[7, 5, 4, 4, 2, 2, 2, 2, 1, 1]\n",
      "[1, 1, 2, 2, 2, 2, 4, 4, 5, 7]\n",
      "[7, 5, 4, 4, 2, 2, 2, 2, 1, 1]\n"
     ]
    }
   ],
   "source": [
    "# .reverse() - 역순으로\n",
    "print(numbers)\n",
    "numbers.reverse()\n",
    "print(numbers)\n",
    "numbers = numbers[::-1]\n",
    "print(numbers)"
   ]
  },
  {
   "cell_type": "markdown",
   "id": "0f45aaec-d90c-46d2-b583-502a079cf04a",
   "metadata": {},
   "source": [
    "## 2.1 list copy"
   ]
  },
  {
   "cell_type": "code",
   "execution_count": 67,
   "id": "f41d09ea-b72a-4a9c-ae5a-5565ea115501",
   "metadata": {},
   "outputs": [],
   "source": [
    "origin_list = [1, 2, 3]\n",
    "copy_list = origin_list"
   ]
  },
  {
   "cell_type": "code",
   "execution_count": 68,
   "id": "ff1cc5e7-a19c-4926-b7cf-79b4c8984e9e",
   "metadata": {},
   "outputs": [
    {
     "name": "stdout",
     "output_type": "stream",
     "text": [
      "[1, 2, 3]\n",
      "[1, 2, 3]\n"
     ]
    }
   ],
   "source": [
    "print(origin_list)\n",
    "print(copy_list)"
   ]
  },
  {
   "cell_type": "code",
   "execution_count": 69,
   "id": "3aa03113-d262-4b9e-a678-96bd994e1259",
   "metadata": {},
   "outputs": [
    {
     "name": "stdout",
     "output_type": "stream",
     "text": [
      "[100, 2, 3]\n",
      "[100, 2, 3]\n"
     ]
    }
   ],
   "source": [
    "copy_list[0] = 100\n",
    "print(origin_list)\n",
    "print(copy_list)"
   ]
  },
  {
   "cell_type": "code",
   "execution_count": 71,
   "id": "088775a3-ada9-4ab9-a592-e94c3b8f6800",
   "metadata": {},
   "outputs": [
    {
     "name": "stdout",
     "output_type": "stream",
     "text": [
      "[1, 2, 3]\n",
      "[100, 2, 3]\n",
      "[101, 2, 3]\n"
     ]
    }
   ],
   "source": [
    "a = [1, 2, 3]\n",
    "b = a[:]\n",
    "c = list(a)\n",
    "\n",
    "b[0] = 100\n",
    "c[0] = 101\n",
    "\n",
    "print(a)\n",
    "print(b)\n",
    "print(c)"
   ]
  },
  {
   "cell_type": "code",
   "execution_count": 72,
   "id": "41963b8f-4036-49d6-87a1-1bc058ab0a12",
   "metadata": {},
   "outputs": [
    {
     "name": "stdout",
     "output_type": "stream",
     "text": [
      "[1, 2, [100, 4]]\n",
      "[1, 2, [100, 4]]\n"
     ]
    }
   ],
   "source": [
    "a = [1, 2, [3, 4]]\n",
    "b = a[:]\n",
    "\n",
    "b[2][0] = 100\n",
    "\n",
    "print(a)\n",
    "print(b)"
   ]
  },
  {
   "cell_type": "code",
   "execution_count": 73,
   "id": "82733c42-e5a2-47a2-ae08-d7fe8969a533",
   "metadata": {},
   "outputs": [
    {
     "name": "stdout",
     "output_type": "stream",
     "text": [
      "[1, 2, [3, 4]]\n",
      "[1, 2, [100, 4]]\n"
     ]
    }
   ],
   "source": [
    "import copy\n",
    "a = [1, 2, [3, 4]]\n",
    "b = copy.deepcopy(a)\n",
    "\n",
    "b[2][0] = 100\n",
    "\n",
    "print(a)\n",
    "print(b)"
   ]
  },
  {
   "cell_type": "markdown",
   "id": "2daeac5c-40e4-4392-8b65-ef979bfb3323",
   "metadata": {},
   "source": [
    "## 2.2 list comprehension"
   ]
  },
  {
   "cell_type": "code",
   "execution_count": 74,
   "id": "f86a3ae4-8a82-43a6-b12b-fb8bcfd513f4",
   "metadata": {},
   "outputs": [
    {
     "name": "stdout",
     "output_type": "stream",
     "text": [
      "[1, 2, 3, 4, 5, 6, 7, 8, 9, 10]\n"
     ]
    }
   ],
   "source": [
    "numbers = list(range(1, 11))\n",
    "print(numbers)"
   ]
  },
  {
   "cell_type": "code",
   "execution_count": 77,
   "id": "1e38ed80-57f2-4933-a477-761174839fcf",
   "metadata": {},
   "outputs": [
    {
     "name": "stdout",
     "output_type": "stream",
     "text": [
      "[1, 8, 27, 64, 125, 216, 343, 512, 729, 1000]\n"
     ]
    }
   ],
   "source": [
    "# 모든 요소 세제곱\n",
    "result = []\n",
    "for num in numbers:\n",
    "    result.append(num ** 3)\n",
    "\n",
    "print(result)"
   ]
  },
  {
   "cell_type": "code",
   "execution_count": 78,
   "id": "7097fcfc-0e23-4c2d-9446-af0066acf9ec",
   "metadata": {},
   "outputs": [
    {
     "name": "stdout",
     "output_type": "stream",
     "text": [
      "[1, 8, 27, 64, 125, 216, 343, 512, 729, 1000]\n"
     ]
    }
   ],
   "source": [
    "result2 = [num ** 3 for num in numbers]\n",
    "print(result2)"
   ]
  },
  {
   "cell_type": "code",
   "execution_count": 79,
   "id": "ac213ff6-5b2d-4d84-acac-fb2ebbb6e530",
   "metadata": {},
   "outputs": [
    {
     "name": "stdout",
     "output_type": "stream",
     "text": [
      "[2, 4, 6, 8, 10]\n"
     ]
    }
   ],
   "source": [
    "# 짝수만 고르기 - 반복문\n",
    "\n",
    "even_list = []\n",
    "for i in numbers:\n",
    "    if i % 2 == 0:\n",
    "        even_list.append(i)\n",
    "\n",
    "print(even_list)"
   ]
  },
  {
   "cell_type": "code",
   "execution_count": 80,
   "id": "0137c724-509b-43e2-b274-d4b743ac01d8",
   "metadata": {},
   "outputs": [
    {
     "name": "stdout",
     "output_type": "stream",
     "text": [
      "[2, 4, 6, 8, 10]\n"
     ]
    }
   ],
   "source": [
    "# 짝수만 고르기 - list comprehension\n",
    "\n",
    "even_list2 = [i for i in numbers if i % 2 ==0]\n",
    "print(even_list2)"
   ]
  },
  {
   "cell_type": "code",
   "execution_count": 81,
   "id": "6baa7d60-398f-4211-909e-4f6275364abb",
   "metadata": {},
   "outputs": [],
   "source": [
    "words = 'my name is seungwook'\n",
    "vowels = 'aeiou'\n",
    "\n",
    "# => words에서 모음 제거"
   ]
  },
  {
   "cell_type": "code",
   "execution_count": 88,
   "id": "d69616d9-e5a3-433a-a1a9-96d757cc5345",
   "metadata": {},
   "outputs": [
    {
     "name": "stdout",
     "output_type": "stream",
     "text": [
      "['m', 'y', ' ', 'n', 'm', ' ', 's', ' ', 's', 'n', 'g', 'w', 'k']\n",
      "my nm s sngwk\n"
     ]
    }
   ],
   "source": [
    "# 1. for문 버전\n",
    "result = []\n",
    "\n",
    "for char in words:\n",
    "    if char not in vowels:\n",
    "        result.append(char)\n",
    "\n",
    "print(result)\n",
    "print(''.join(result))"
   ]
  },
  {
   "cell_type": "code",
   "execution_count": 91,
   "id": "6fe74261-1a31-4a6a-bec2-d6e9adc98618",
   "metadata": {},
   "outputs": [
    {
     "name": "stdout",
     "output_type": "stream",
     "text": [
      "['M', 'Y', ' ', 'N', 'M', ' ', 'S', ' ', 'S', 'N', 'G', 'W', 'K']\n",
      "MY NM S SNGWK\n"
     ]
    }
   ],
   "source": [
    "# 2. list comprehension 버전\n",
    "\n",
    "result2 = [char.upper() for char in words if char not in vowels]\n",
    "\n",
    "print(result2)\n",
    "print(''.join(result2))"
   ]
  },
  {
   "cell_type": "markdown",
   "id": "c8286ed8-1df6-4a2d-a215-60d9aaf0ec39",
   "metadata": {},
   "source": [
    "## 3. 딕셔너리 메소드"
   ]
  },
  {
   "cell_type": "code",
   "execution_count": 100,
   "id": "7a1cddee-4e4d-425f-9e7a-f171f3303498",
   "metadata": {},
   "outputs": [],
   "source": [
    "info = {\n",
    "    'name': 'hong',\n",
    "    'location': 'seoul',\n",
    "}"
   ]
  },
  {
   "cell_type": "code",
   "execution_count": 101,
   "id": "adb7b0a3-a5f8-4b99-866c-7197689db01a",
   "metadata": {},
   "outputs": [
    {
     "name": "stdout",
     "output_type": "stream",
     "text": [
      "kim\n"
     ]
    }
   ],
   "source": [
    "info['name'] = 'kim'\n",
    "print(info['name'])"
   ]
  },
  {
   "cell_type": "code",
   "execution_count": 109,
   "id": "368b1226-54e0-4180-b9e0-f65f554ef78a",
   "metadata": {},
   "outputs": [
    {
     "name": "stdout",
     "output_type": "stream",
     "text": [
      "None\n",
      "{'name': 'hong'}\n"
     ]
    }
   ],
   "source": [
    "# .pop(key[, default])\n",
    "\n",
    "print(info.pop('location', None))\n",
    "print(info)"
   ]
  },
  {
   "cell_type": "code",
   "execution_count": 107,
   "id": "41af3b99-5265-4b0d-8d33-f0d914719884",
   "metadata": {},
   "outputs": [
    {
     "name": "stdout",
     "output_type": "stream",
     "text": [
      "{'name': 'hong'}\n"
     ]
    }
   ],
   "source": [
    "# .update(key=value)\n",
    "\n",
    "info.update(name='hong')\n",
    "print(info)"
   ]
  },
  {
   "cell_type": "code",
   "execution_count": 112,
   "id": "ebc1cdbd-3649-40c9-9459-c9902cd25847",
   "metadata": {},
   "outputs": [
    {
     "name": "stdout",
     "output_type": "stream",
     "text": [
      "hong\n",
      "None\n",
      "123\n"
     ]
    }
   ],
   "source": [
    "# .get(key[, default])\n",
    "\n",
    "print(info.get('name'))\n",
    "print(info.get('school'))\n",
    "print(info.get('school', '123'))"
   ]
  },
  {
   "cell_type": "markdown",
   "id": "d3fbc0b4-3f2f-493c-a3e2-d4a4e9714adc",
   "metadata": {},
   "source": [
    "## 3.1 dict comprehension"
   ]
  },
  {
   "cell_type": "code",
   "execution_count": 114,
   "id": "b39a5423-104b-4071-8846-4996c1293bfd",
   "metadata": {},
   "outputs": [],
   "source": [
    "# {1: 1, 2: 8, 3: 27}"
   ]
  },
  {
   "cell_type": "code",
   "execution_count": 117,
   "id": "42fe3283-0957-4b91-917e-722cacb55bad",
   "metadata": {},
   "outputs": [
    {
     "name": "stdout",
     "output_type": "stream",
     "text": [
      "{1: 1, 2: 8, 3: 27}\n"
     ]
    }
   ],
   "source": [
    "# for \n",
    "\n",
    "cube_dict = {}\n",
    "for i in range(1, 4):\n",
    "    cube_dict[i] = i ** 3\n",
    "    \n",
    "print(cube_dict)"
   ]
  },
  {
   "cell_type": "code",
   "execution_count": 118,
   "id": "ed15ba1f-94b7-4410-a674-7da2e854467c",
   "metadata": {},
   "outputs": [
    {
     "name": "stdout",
     "output_type": "stream",
     "text": [
      "{1: 1, 2: 8, 3: 27}\n"
     ]
    }
   ],
   "source": [
    "# comprehension\n",
    "\n",
    "cube_dict2 = {i: i ** 3 for i in range(1, 4)}\n",
    "print(cube_dict2)"
   ]
  },
  {
   "cell_type": "code",
   "execution_count": 123,
   "id": "2aeb8e5c-a49c-422f-b7c3-c595c767d0d9",
   "metadata": {},
   "outputs": [],
   "source": [
    "#\n",
    "dust = {\n",
    "    '서울': 100,\n",
    "    '대구': 30,\n",
    "    '대전': 10,\n",
    "    '부산': 80,\n",
    "    '광주': 50,\n",
    "}"
   ]
  },
  {
   "cell_type": "code",
   "execution_count": 125,
   "id": "24258857-5a71-4973-b47c-071aa02d64f0",
   "metadata": {},
   "outputs": [
    {
     "name": "stdout",
     "output_type": "stream",
     "text": [
      "{'서울': 100, '부산': 80, '광주': 50}\n"
     ]
    }
   ],
   "source": [
    "# for\n",
    "\n",
    "result = {}\n",
    "for k, v in dust.items():\n",
    "    if v >= 50:\n",
    "        result[k] = v\n",
    "\n",
    "print(result)        "
   ]
  },
  {
   "cell_type": "code",
   "execution_count": 128,
   "id": "78c8a73a-9fc2-4f95-bdbd-fa35c441bb31",
   "metadata": {},
   "outputs": [
    {
     "name": "stdout",
     "output_type": "stream",
     "text": [
      "{'서울': 100, '부산': 80, '광주': 50}\n"
     ]
    }
   ],
   "source": [
    "# comprehension\n",
    "\n",
    "result2 = {k: v for k, v in dust.items() if v >= 50}\n",
    "print(result2)"
   ]
  },
  {
   "cell_type": "code",
   "execution_count": 130,
   "id": "424c24d2-d639-44e8-95e9-b7afea3a2e71",
   "metadata": {},
   "outputs": [
    {
     "name": "stdout",
     "output_type": "stream",
     "text": [
      "{'서울': '나쁨', '부산': '나쁨', '광주': '나쁨'}\n"
     ]
    }
   ],
   "source": [
    "# value 바꿔서 저장\n",
    "\n",
    "result2 = {k: '나쁨' for k, v in dust.items() if v >= 50}\n",
    "print(result2)"
   ]
  },
  {
   "cell_type": "markdown",
   "id": "219d7192-6559-4977-b6b5-1a7c22c3416a",
   "metadata": {},
   "source": [
    "# 4. 세트 메소드"
   ]
  },
  {
   "cell_type": "code",
   "execution_count": 131,
   "id": "3da46a6f-d2f3-4016-9bdb-c6cbbe62ac7f",
   "metadata": {},
   "outputs": [],
   "source": [
    "fruits = {'apple', 'banana', 'melon'}"
   ]
  },
  {
   "cell_type": "code",
   "execution_count": 134,
   "id": "a2a3577a-1b61-413c-9ea6-758a3426b843",
   "metadata": {},
   "outputs": [
    {
     "name": "stdout",
     "output_type": "stream",
     "text": [
      "{'watermelon', 'melon', 'apple', 'banana'}\n"
     ]
    }
   ],
   "source": [
    "# .add(x) - 순서 상관x\n",
    "\n",
    "fruits.add('watermelon')\n",
    "print(fruits)"
   ]
  },
  {
   "cell_type": "code",
   "execution_count": 138,
   "id": "25cc79ba-d58c-48be-96b3-bd22fa038021",
   "metadata": {},
   "outputs": [
    {
     "name": "stdout",
     "output_type": "stream",
     "text": [
      "{'a', 'melon', 'p', 'apple', 'watermelon', 'r', 'g', 'orange', 'pear', 'e', 'banana'}\n",
      "{'a', 'melon', 'p', 'apple', 'watermelon', 'r', 'g', 'orange', 'pear', 'e', 'banana'}\n"
     ]
    }
   ],
   "source": [
    "# .update()\n",
    "\n",
    "fruits.update('grape')\n",
    "print(fruits)\n",
    "fruits.update({'orange', 'pear'})\n",
    "print(fruits)"
   ]
  },
  {
   "cell_type": "code",
   "execution_count": 139,
   "id": "24f2f414-ebca-4517-9220-7fb77852bcde",
   "metadata": {},
   "outputs": [
    {
     "name": "stdout",
     "output_type": "stream",
     "text": [
      "{'a', 'melon', 'p', 'apple', 'watermelon', 'r', 'g', 'pear', 'e', 'banana'}\n"
     ]
    }
   ],
   "source": [
    "# remove()\n",
    "fruits.remove('orange')\n",
    "print(fruits)"
   ]
  },
  {
   "cell_type": "code",
   "execution_count": 140,
   "id": "831dd960-f427-4b7f-9ae8-7b80015440f1",
   "metadata": {},
   "outputs": [
    {
     "name": "stdout",
     "output_type": "stream",
     "text": [
      "{'melon', 'p', 'apple', 'watermelon', 'r', 'g', 'pear', 'e', 'banana'}\n"
     ]
    }
   ],
   "source": [
    "# .pop()\n",
    "fruits.pop()\n",
    "print(fruits)"
   ]
  },
  {
   "cell_type": "markdown",
   "id": "04a7950e-b88f-4c45-bffa-ea79cfee5b92",
   "metadata": {},
   "source": [
    "# 5. map(), zip(), filter()"
   ]
  },
  {
   "cell_type": "markdown",
   "id": "aea1bd4f-7a8c-42bd-a043-e3822a095031",
   "metadata": {},
   "source": [
    "## 5.1 map()\n",
    "```python\n",
    "map(function, iterable)\n",
    "```"
   ]
  },
  {
   "cell_type": "code",
   "execution_count": 141,
   "id": "fd9c2861-cd56-42d0-8d6d-e69f67ea5cc8",
   "metadata": {},
   "outputs": [
    {
     "name": "stdout",
     "output_type": "stream",
     "text": [
      "<map object at 0x00000204461CB040>\n",
      "['1', '2', '3']\n"
     ]
    }
   ],
   "source": [
    "a = [1, 2, 3]\n",
    "num_str = map(str, a)\n",
    "print(num_str)\n",
    "print(list(num_str))"
   ]
  },
  {
   "cell_type": "code",
   "execution_count": 142,
   "id": "203d4279-461a-4019-a857-ce59043a996c",
   "metadata": {},
   "outputs": [],
   "source": [
    "def cube(x):\n",
    "    return x ** 3"
   ]
  },
  {
   "cell_type": "code",
   "execution_count": 143,
   "id": "b0481767-bf18-4421-bef7-eb230358b9c9",
   "metadata": {},
   "outputs": [
    {
     "name": "stdout",
     "output_type": "stream",
     "text": [
      "[1, 8, 27]\n"
     ]
    }
   ],
   "source": [
    "# for문 활용하여 모든 item에 cube함수 실행\n",
    "result = []\n",
    "for i in a:\n",
    "    result.append(cube(i))\n",
    "print(result)"
   ]
  },
  {
   "cell_type": "code",
   "execution_count": 144,
   "id": "46305f93-7e67-4d37-9e69-1e318adc135b",
   "metadata": {},
   "outputs": [
    {
     "name": "stdout",
     "output_type": "stream",
     "text": [
      "[1, 8, 27]\n"
     ]
    }
   ],
   "source": [
    "result2 = map(cube, a)\n",
    "print(list(result2))"
   ]
  },
  {
   "cell_type": "code",
   "execution_count": 146,
   "id": "96d98fbd-d4ac-4586-8dbc-3a53f83f53e2",
   "metadata": {},
   "outputs": [
    {
     "name": "stdin",
     "output_type": "stream",
     "text": [
      " 1 2 3 4 5\n"
     ]
    },
    {
     "name": "stdout",
     "output_type": "stream",
     "text": [
      "[1, 2, 3, 4, 5]\n"
     ]
    }
   ],
   "source": [
    "numbers = list(map(int, input().split()))\n",
    "print(numbers)"
   ]
  },
  {
   "cell_type": "markdown",
   "id": "3097bafc-67f6-4fb5-a5f9-c05f9ef7bf12",
   "metadata": {},
   "source": [
    "## 5.2 zip()"
   ]
  },
  {
   "cell_type": "code",
   "execution_count": 147,
   "id": "db61a8df-f859-4032-af03-f20a871a080c",
   "metadata": {},
   "outputs": [],
   "source": [
    "a = [1, 2, 3]\n",
    "b = [100, 200 ,300]"
   ]
  },
  {
   "cell_type": "code",
   "execution_count": 148,
   "id": "c587d85d-8ee2-4299-bf86-3d9017d53c83",
   "metadata": {},
   "outputs": [
    {
     "name": "stdout",
     "output_type": "stream",
     "text": [
      "<zip object at 0x000002044696A980>\n",
      "[(1, 100), (2, 200), (3, 300)]\n"
     ]
    }
   ],
   "source": [
    "result = zip(a, b)\n",
    "print(result)\n",
    "print(list(result))"
   ]
  },
  {
   "cell_type": "markdown",
   "id": "31d63778-e2a1-4293-bdca-cd0a9e0facaf",
   "metadata": {},
   "source": [
    "## 5.3 filter\n",
    "```python\n",
    "filter(function, iterable)\n",
    "```\n",
    "filter에 들어가는 function은 T/F를 반환해야 한다."
   ]
  },
  {
   "cell_type": "code",
   "execution_count": 153,
   "id": "d6fdf3e3-ddf5-4c3c-b887-d1e1ab19acfd",
   "metadata": {},
   "outputs": [],
   "source": [
    "def is_odd(x):\n",
    "    return bool(x % 2)"
   ]
  },
  {
   "cell_type": "code",
   "execution_count": 154,
   "id": "a6a6f6c9-bef8-49a8-b7ec-bbeba7495dc8",
   "metadata": {},
   "outputs": [
    {
     "name": "stdout",
     "output_type": "stream",
     "text": [
      "<filter object at 0x00000204461CB280>\n",
      "[1, 3, 5]\n"
     ]
    }
   ],
   "source": [
    "numbers = [1, 2, 3, 4, 5]\n",
    "result = filter(is_odd, numbers)\n",
    "print(result)\n",
    "print(list(result))"
   ]
  }
 ],
 "metadata": {
  "kernelspec": {
   "display_name": "Python 3 (ipykernel)",
   "language": "python",
   "name": "python3"
  },
  "language_info": {
   "codemirror_mode": {
    "name": "ipython",
    "version": 3
   },
   "file_extension": ".py",
   "mimetype": "text/x-python",
   "name": "python",
   "nbconvert_exporter": "python",
   "pygments_lexer": "ipython3",
   "version": "3.11.4"
  }
 },
 "nbformat": 4,
 "nbformat_minor": 5
}
