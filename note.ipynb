{
 "cells": [
  {
   "cell_type": "code",
   "execution_count": 6,
   "id": "e10d5a5d-d55d-4881-a2e4-88b637486882",
   "metadata": {},
   "outputs": [
    {
     "name": "stdin",
     "output_type": "stream",
     "text": [
      " A\n"
     ]
    },
    {
     "name": "stdout",
     "output_type": "stream",
     "text": [
      "A 는 대문자 입니다.\n"
     ]
    }
   ],
   "source": [
    "# 대소문자 판별\n",
    "# str.isupper() 는 대문자 여부를 T/F로 반환\n",
    "\n",
    "char = input()\n",
    "\n",
    "if char.isupper():\n",
    "    print(f'{char} 는 대문자 입니다.')\n",
    "else:\n",
    "    print(f'{char} 는 소문자 입니다.')"
   ]
  },
  {
   "cell_type": "code",
   "execution_count": 5,
   "id": "b0eaeeca-217d-4c3e-be53-cfca122bcb34",
   "metadata": {},
   "outputs": [
    {
     "name": "stdin",
     "output_type": "stream",
     "text": [
      " 가위\n",
      " 보\n"
     ]
    },
    {
     "name": "stdout",
     "output_type": "stream",
     "text": [
      "Result : Man1 Win!\n"
     ]
    }
   ],
   "source": [
    "# 가위바위보 - 인덱스 번호 활용\n",
    "\n",
    "# 보, (가위)   win2   2\n",
    "#(바위), 가위  win1   1\n",
    "# (보), 바위   win1   1\n",
    "# (가위), 바위 win2   -1\n",
    "# (바위), 보   win2   -1\n",
    "# 가위, (보)   win1   -2\n",
    "\n",
    "man1 = input()\n",
    "man2 = input()\n",
    "rcp = ['가위', '바위', '보']\n",
    "\n",
    "man1_idx = rcp.index(man1)    # list.index(item) -> item에 해당하는 index값 반환 \n",
    "man2_idx = rcp.index(man2)\n",
    "\n",
    "result = man1_idx - man2_idx\n",
    "\n",
    "if result == 0:\n",
    "    print('Result : Draw')\n",
    "elif result > 0:\n",
    "    print(f'Result : Man{result} Win!')\n",
    "else:\n",
    "    if result == -1:\n",
    "        print('Result : Man2 Win!')\n",
    "    else:\n",
    "        print('Result : Man1 Win!')\n"
   ]
  },
  {
   "cell_type": "code",
   "execution_count": 7,
   "id": "c6679430-3dc0-4421-9d2d-8d797760dd65",
   "metadata": {},
   "outputs": [
    {
     "name": "stdin",
     "output_type": "stream",
     "text": [
      " C\n"
     ]
    },
    {
     "name": "stdout",
     "output_type": "stream",
     "text": [
      "C(ASCII: 67) => c(ASCII: 99)\n"
     ]
    }
   ],
   "source": [
    "# 대소문자 변환 - char.upper / char.lower\n",
    "# 아스키 코드값 - ord(char)\n",
    "\n",
    "char = input()\n",
    "\n",
    "if char.isupper():\n",
    "    print(f'{char}(ASCII: {ord(char)}) => {char.lower()}(ASCII: {ord(char.lower())})')\n",
    "else:\n",
    "    print(f'{char}(ASCII: {ord(char)}) => {char.upper()}(ASCII: {ord(char.upper())})')"
   ]
  },
  {
   "cell_type": "code",
   "execution_count": 15,
   "id": "c5e42a66-c18d-4ea4-abcd-4ab10bd6bdd6",
   "metadata": {},
   "outputs": [
    {
     "name": "stdout",
     "output_type": "stream",
     "text": [
      "1은 홀수\n",
      "3은 홀수\n",
      "5은 홀수\n"
     ]
    }
   ],
   "source": [
    "# 공백을 기준으로 문자열 분리 - str.split()\n",
    "# map함수를 이용하여 모든 요소들에 int()적용\n",
    "\n",
    "s = '1 2 3 4 5'\n",
    "numbers =list(map(int, s.split()))\n",
    "\n",
    "for number in numbers:\n",
    "    if number % 2 ==1:\n",
    "        print(f'{number}은 홀수')\n",
    "        "
   ]
  },
  {
   "cell_type": "code",
   "execution_count": 1,
   "id": "c1150efc-354e-45f5-a05c-2f4cb4a96428",
   "metadata": {
    "scrolled": true
   },
   "outputs": [
    {
     "name": "stdout",
     "output_type": "stream",
     "text": [
      "7,14,21,28,42,49,56,63,77,84,91,98,112,119,126,133,147,154,161,168,182,189,196\n"
     ]
    }
   ],
   "source": [
    "# '구분자'.join(list) -> list의 요소들을 구분자를 넣어서 문자열로 변환\n",
    "\n",
    "result = []\n",
    "\n",
    "for i in range(1, 200):\n",
    "    if i % 7 == 0 and i % 5 != 0:\n",
    "        result.append(i)\n",
    "\n",
    "result = list(map(str, result))\n",
    "\n",
    "print(','.join(result)) "
   ]
  },
  {
   "cell_type": "code",
   "execution_count": null,
   "id": "a8b79db8-e871-4843-813f-02d66708ad9f",
   "metadata": {},
   "outputs": [],
   "source": []
  },
  {
   "cell_type": "code",
   "execution_count": null,
   "id": "d3f0ef06-7504-4bf6-9ec6-632ddb3fb212",
   "metadata": {},
   "outputs": [],
   "source": []
  },
  {
   "cell_type": "code",
   "execution_count": null,
   "id": "081b4069-be41-417b-8ad5-1e8ebae1b6a8",
   "metadata": {},
   "outputs": [],
   "source": []
  }
 ],
 "metadata": {
  "kernelspec": {
   "display_name": "Python 3 (ipykernel)",
   "language": "python",
   "name": "python3"
  },
  "language_info": {
   "codemirror_mode": {
    "name": "ipython",
    "version": 3
   },
   "file_extension": ".py",
   "mimetype": "text/x-python",
   "name": "python",
   "nbconvert_exporter": "python",
   "pygments_lexer": "ipython3",
   "version": "3.11.4"
  }
 },
 "nbformat": 4,
 "nbformat_minor": 5
}
