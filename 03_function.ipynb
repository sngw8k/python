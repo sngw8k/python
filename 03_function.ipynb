{
 "cells": [
  {
   "cell_type": "markdown",
   "id": "1b158e37-7b4b-4add-b961-a2f81d8513e1",
   "metadata": {},
   "source": [
    "# 함수(function)"
   ]
  },
  {
   "cell_type": "code",
   "execution_count": 1,
   "id": "745b151f-5c3c-42a9-901c-2f4a4d240dd9",
   "metadata": {},
   "outputs": [
    {
     "name": "stdout",
     "output_type": "stream",
     "text": [
      "직사각형의 둘레는 60, 면적은 200입니다.\n"
     ]
    }
   ],
   "source": [
    "height = 10\n",
    "width = 20\n",
    "\n",
    "# 직사각형의 둘레는 ***, 면적은 ***입니다.\n",
    "\n",
    "area = height * width\n",
    "perimeter = (height + width) * 2\n",
    "print(f'직사각형의 둘레는 {perimeter}, 면적은 {area}입니다.')"
   ]
  },
  {
   "cell_type": "markdown",
   "id": "6ff47dde-eb7c-44c5-a81f-286fcd50d240",
   "metadata": {},
   "source": [
    "## 함수의 선언과 호출\n",
    "\n",
    "- 함수의 선언\n",
    "```python\n",
    "def func_name(parameter1, parameter2...):\n",
    "    cod1\n",
    "    cod2\n",
    "    ...\n",
    "    return value\n",
    "```\n",
    "\n",
    "- 함수의 호출(실행)\n",
    "```python\n",
    "func_name(parameter1, parameter2)\n",
    "```    "
   ]
  },
  {
   "cell_type": "code",
   "execution_count": 4,
   "id": "7f605c67-487a-4b80-8386-32d65aa050f7",
   "metadata": {},
   "outputs": [],
   "source": [
    "def rectangle(height, width):\n",
    "    area = height * width\n",
    "    perimeter = (height + width) * 2\n",
    "    print(f'직사각형의 둘레는 {perimeter}, 면적은 {area}입니다.')"
   ]
  },
  {
   "cell_type": "code",
   "execution_count": 5,
   "id": "db4a497e-4c03-415d-b1bd-4e155384e6b6",
   "metadata": {},
   "outputs": [
    {
     "name": "stdout",
     "output_type": "stream",
     "text": [
      "직사각형의 둘레는 60, 면적은 200입니다.\n"
     ]
    }
   ],
   "source": [
    "rectangle(10, 20)"
   ]
  },
  {
   "cell_type": "code",
   "execution_count": 6,
   "id": "42705a27-5ce9-47ba-bc0d-2dc85c9e0cdb",
   "metadata": {},
   "outputs": [
    {
     "data": {
      "text/plain": [
       "['ArithmeticError',\n",
       " 'AssertionError',\n",
       " 'AttributeError',\n",
       " 'BaseException',\n",
       " 'BaseExceptionGroup',\n",
       " 'BlockingIOError',\n",
       " 'BrokenPipeError',\n",
       " 'BufferError',\n",
       " 'BytesWarning',\n",
       " 'ChildProcessError',\n",
       " 'ConnectionAbortedError',\n",
       " 'ConnectionError',\n",
       " 'ConnectionRefusedError',\n",
       " 'ConnectionResetError',\n",
       " 'DeprecationWarning',\n",
       " 'EOFError',\n",
       " 'Ellipsis',\n",
       " 'EncodingWarning',\n",
       " 'EnvironmentError',\n",
       " 'Exception',\n",
       " 'ExceptionGroup',\n",
       " 'False',\n",
       " 'FileExistsError',\n",
       " 'FileNotFoundError',\n",
       " 'FloatingPointError',\n",
       " 'FutureWarning',\n",
       " 'GeneratorExit',\n",
       " 'IOError',\n",
       " 'ImportError',\n",
       " 'ImportWarning',\n",
       " 'IndentationError',\n",
       " 'IndexError',\n",
       " 'InterruptedError',\n",
       " 'IsADirectoryError',\n",
       " 'KeyError',\n",
       " 'KeyboardInterrupt',\n",
       " 'LookupError',\n",
       " 'MemoryError',\n",
       " 'ModuleNotFoundError',\n",
       " 'NameError',\n",
       " 'None',\n",
       " 'NotADirectoryError',\n",
       " 'NotImplemented',\n",
       " 'NotImplementedError',\n",
       " 'OSError',\n",
       " 'OverflowError',\n",
       " 'PendingDeprecationWarning',\n",
       " 'PermissionError',\n",
       " 'ProcessLookupError',\n",
       " 'RecursionError',\n",
       " 'ReferenceError',\n",
       " 'ResourceWarning',\n",
       " 'RuntimeError',\n",
       " 'RuntimeWarning',\n",
       " 'StopAsyncIteration',\n",
       " 'StopIteration',\n",
       " 'SyntaxError',\n",
       " 'SyntaxWarning',\n",
       " 'SystemError',\n",
       " 'SystemExit',\n",
       " 'TabError',\n",
       " 'TimeoutError',\n",
       " 'True',\n",
       " 'TypeError',\n",
       " 'UnboundLocalError',\n",
       " 'UnicodeDecodeError',\n",
       " 'UnicodeEncodeError',\n",
       " 'UnicodeError',\n",
       " 'UnicodeTranslateError',\n",
       " 'UnicodeWarning',\n",
       " 'UserWarning',\n",
       " 'ValueError',\n",
       " 'Warning',\n",
       " 'WindowsError',\n",
       " 'ZeroDivisionError',\n",
       " '__IPYTHON__',\n",
       " '__build_class__',\n",
       " '__debug__',\n",
       " '__doc__',\n",
       " '__import__',\n",
       " '__loader__',\n",
       " '__name__',\n",
       " '__package__',\n",
       " '__spec__',\n",
       " 'abs',\n",
       " 'aiter',\n",
       " 'all',\n",
       " 'anext',\n",
       " 'any',\n",
       " 'ascii',\n",
       " 'bin',\n",
       " 'bool',\n",
       " 'breakpoint',\n",
       " 'bytearray',\n",
       " 'bytes',\n",
       " 'callable',\n",
       " 'chr',\n",
       " 'classmethod',\n",
       " 'compile',\n",
       " 'complex',\n",
       " 'copyright',\n",
       " 'credits',\n",
       " 'delattr',\n",
       " 'dict',\n",
       " 'dir',\n",
       " 'display',\n",
       " 'divmod',\n",
       " 'enumerate',\n",
       " 'eval',\n",
       " 'exec',\n",
       " 'execfile',\n",
       " 'filter',\n",
       " 'float',\n",
       " 'format',\n",
       " 'frozenset',\n",
       " 'get_ipython',\n",
       " 'getattr',\n",
       " 'globals',\n",
       " 'hasattr',\n",
       " 'hash',\n",
       " 'help',\n",
       " 'hex',\n",
       " 'id',\n",
       " 'input',\n",
       " 'int',\n",
       " 'isinstance',\n",
       " 'issubclass',\n",
       " 'iter',\n",
       " 'len',\n",
       " 'license',\n",
       " 'list',\n",
       " 'locals',\n",
       " 'map',\n",
       " 'max',\n",
       " 'memoryview',\n",
       " 'min',\n",
       " 'next',\n",
       " 'object',\n",
       " 'oct',\n",
       " 'open',\n",
       " 'ord',\n",
       " 'pow',\n",
       " 'print',\n",
       " 'property',\n",
       " 'range',\n",
       " 'repr',\n",
       " 'reversed',\n",
       " 'round',\n",
       " 'runfile',\n",
       " 'set',\n",
       " 'setattr',\n",
       " 'slice',\n",
       " 'sorted',\n",
       " 'staticmethod',\n",
       " 'str',\n",
       " 'sum',\n",
       " 'super',\n",
       " 'tuple',\n",
       " 'type',\n",
       " 'vars',\n",
       " 'zip']"
      ]
     },
     "execution_count": 6,
     "metadata": {},
     "output_type": "execute_result"
    }
   ],
   "source": [
    "dir(__builtins__)"
   ]
  },
  {
   "cell_type": "code",
   "execution_count": 7,
   "id": "4cdbf814-7328-49c1-baf0-f795418e44e6",
   "metadata": {},
   "outputs": [
    {
     "data": {
      "text/plain": [
       "5"
      ]
     },
     "execution_count": 7,
     "metadata": {},
     "output_type": "execute_result"
    }
   ],
   "source": [
    "max(1, 5)"
   ]
  },
  {
   "cell_type": "code",
   "execution_count": 11,
   "id": "b5c2022e-969e-453b-9c2e-54b99ac9f204",
   "metadata": {},
   "outputs": [],
   "source": [
    "# 두개의 정수를 받아서 큰 수를 출력\n",
    "def my_max(num1, num2):\n",
    "    if num1 > num2:\n",
    "        print(num1)\n",
    "    elif num1 < num2:\n",
    "        print(num2)\n",
    "    else:\n",
    "        print('두 수가 같습니다.')"
   ]
  },
  {
   "cell_type": "code",
   "execution_count": 12,
   "id": "1bde94de-a281-401f-b776-26f91be2202c",
   "metadata": {},
   "outputs": [
    {
     "name": "stdout",
     "output_type": "stream",
     "text": [
      "10\n",
      "None\n"
     ]
    }
   ],
   "source": [
    "result = my_max(1,10)\n",
    "print(result)"
   ]
  },
  {
   "cell_type": "markdown",
   "id": "1460055f-f281-484b-9e6d-eac590662aa7",
   "metadata": {},
   "source": [
    "### 함수의 return\n",
    "\n",
    "- 함수가 return을 만나면 해당 값을 반환하고 함수를 종료\n",
    "- 만약 return이 없다면 None을 자동으로 반환\n",
    "- return은 오직 하나의 객체만 반환합니다."
   ]
  },
  {
   "cell_type": "code",
   "execution_count": 13,
   "id": "dd8229f2-a61f-4bdb-aba1-dd16447cb9d6",
   "metadata": {},
   "outputs": [],
   "source": [
    "# 두개의 정수를 받아서 큰 수를 반환\n",
    "def my_max2(num1, num2):\n",
    "    if num1 > num2:\n",
    "        return num1\n",
    "    elif num1 < num2:\n",
    "        return num2\n",
    "    else:\n",
    "        return 0"
   ]
  },
  {
   "cell_type": "code",
   "execution_count": 16,
   "id": "73194f24-bb7e-4802-a87d-3e9c3aea37a8",
   "metadata": {},
   "outputs": [
    {
     "name": "stdout",
     "output_type": "stream",
     "text": [
      "2가 더 큽니다.\n"
     ]
    }
   ],
   "source": [
    "result = my_max2(1,2)\n",
    "print(f'{result}가 더 큽니다.')"
   ]
  },
  {
   "cell_type": "code",
   "execution_count": 17,
   "id": "1971a67d-f91b-497a-a5d2-519d5589039d",
   "metadata": {},
   "outputs": [],
   "source": [
    "def my_list_max(list_a, list_b):\n",
    "    if sum(list_a) > sum(list_b):\n",
    "        return list_a\n",
    "    else:\n",
    "        return list_b"
   ]
  },
  {
   "cell_type": "code",
   "execution_count": 18,
   "id": "97c352ab-d1f2-4d52-b8c6-6b1957c40b88",
   "metadata": {},
   "outputs": [
    {
     "data": {
      "text/plain": [
       "[11, 12]"
      ]
     },
     "execution_count": 18,
     "metadata": {},
     "output_type": "execute_result"
    }
   ],
   "source": [
    "my_list_max([10,11], [11,12])"
   ]
  },
  {
   "cell_type": "markdown",
   "id": "150ef754-2fb7-4fae-bb35-6828c9b06db1",
   "metadata": {},
   "source": [
    "## 함수의 인수\n"
   ]
  },
  {
   "cell_type": "markdown",
   "id": "16adab14-58e2-40db-b2ca-30a9a0028b4a",
   "metadata": {},
   "source": [
    "### 위치 인수\n",
    "\n",
    "기본적으로 함수는 인수의 위치로 판단합니다."
   ]
  },
  {
   "cell_type": "code",
   "execution_count": 2,
   "id": "3c2b0369-be98-406e-bc55-86bf12164e31",
   "metadata": {},
   "outputs": [
    {
     "name": "stdout",
     "output_type": "stream",
     "text": [
      "1570.0\n",
      "785.0\n"
     ]
    }
   ],
   "source": [
    "def cylinder(r, h):\n",
    "    return 3.14 * r**2 * h\n",
    "\n",
    "print(cylinder(10, 5))\n",
    "print(cylinder(5, 10))"
   ]
  },
  {
   "cell_type": "markdown",
   "id": "c6f16ba2-f8e1-4f3c-bbee-35fd8dfe7be1",
   "metadata": {},
   "source": [
    "### 기본값\n",
    "\n",
    "```python\n",
    "def func(p1=v1)\n",
    "    return v1\n",
    "```"
   ]
  },
  {
   "cell_type": "code",
   "execution_count": 6,
   "id": "210b3076-d33d-4d94-8b90-00deb33ff0c5",
   "metadata": {},
   "outputs": [
    {
     "name": "stdout",
     "output_type": "stream",
     "text": [
      "승욱님 반갑습니다.\n",
      "익명님 반갑습니다.\n"
     ]
    }
   ],
   "source": [
    "def greeting(name='익명'):\n",
    "    return f'{name}님 반갑습니다.'\n",
    "\n",
    "print(greeting('승욱'))\n",
    "print(greeting())         # 아무값도 넣지 않고 함수를 호출할 때 기본값을 사용"
   ]
  },
  {
   "cell_type": "code",
   "execution_count": 8,
   "id": "87baa9d1-ee66-4bb0-81e8-77de1a1882c5",
   "metadata": {},
   "outputs": [
    {
     "ename": "SyntaxError",
     "evalue": "non-default argument follows default argument (2027944172.py, line 1)",
     "output_type": "error",
     "traceback": [
      "\u001b[1;36m  Cell \u001b[1;32mIn[8], line 1\u001b[1;36m\u001b[0m\n\u001b[1;33m    def greeting(name='익명', age):\u001b[0m\n\u001b[1;37m                            ^\u001b[0m\n\u001b[1;31mSyntaxError\u001b[0m\u001b[1;31m:\u001b[0m non-default argument follows default argument\n"
     ]
    }
   ],
   "source": [
    "def greeting(name='익명', age):\n",
    "    return f'{name}님은 {age}살입니다.'"
   ]
  },
  {
   "cell_type": "code",
   "execution_count": 10,
   "id": "c63d1086-a465-44dd-b9bf-1eabe5f5df09",
   "metadata": {},
   "outputs": [
    {
     "name": "stdout",
     "output_type": "stream",
     "text": [
      "홍길동님은 10살입니다.\n",
      "익명님은 20살입니다.\n"
     ]
    }
   ],
   "source": [
    "# 기본인자를 사용할 때 뒤에 사용\n",
    "def greeting(age, name='익명'):\n",
    "    return f'{name}님은 {age}살입니다.'\n",
    "\n",
    "print(greeting(10, '홍길동'))\n",
    "print(greeting(20))"
   ]
  },
  {
   "cell_type": "markdown",
   "id": "d36374de-afd3-4f7d-8b81-84e5e4332c1a",
   "metadata": {},
   "source": [
    "### 키워드 인자\n",
    "\n",
    "함수를 호출(실행)할 때 내가 원하는 위치에 직접적으로 특정인자를 전달가능"
   ]
  },
  {
   "cell_type": "code",
   "execution_count": 11,
   "id": "992abf34-0ae4-4f5e-af87-4638ee158a32",
   "metadata": {},
   "outputs": [
    {
     "name": "stdout",
     "output_type": "stream",
     "text": [
      "홍길동님은 10살입니다.\n",
      "홍길동님은 10살입니다.\n"
     ]
    }
   ],
   "source": [
    "def greeting(age, name='익명'):\n",
    "    return f'{name}님은 {age}살입니다.'\n",
    "\n",
    "print(greeting(10, '홍길동'))\n",
    "print(greeting(name='홍길동', age=10))"
   ]
  },
  {
   "cell_type": "code",
   "execution_count": 12,
   "id": "fa2fd2d0-ed09-4d9e-b4ef-b0319a402a4f",
   "metadata": {},
   "outputs": [
    {
     "name": "stdout",
     "output_type": "stream",
     "text": [
      "안녕\n",
      "안녕!하세요?"
     ]
    }
   ],
   "source": [
    "print('안녕')\n",
    "print('안녕', '하세요', sep='!', end='?')"
   ]
  },
  {
   "cell_type": "markdown",
   "id": "4b3555b3-023f-4e61-9818-376542977d86",
   "metadata": {},
   "source": [
    "### 가변 인자 리스트\n",
    "```python\n",
    "def func(*params):\n",
    "    pass\n",
    "```"
   ]
  },
  {
   "cell_type": "code",
   "execution_count": 13,
   "id": "244d22eb-51ac-44c2-b3a0-a36a45e13419",
   "metadata": {},
   "outputs": [
    {
     "name": "stdout",
     "output_type": "stream",
     "text": [
      "('hi', 'hello')\n",
      "<class 'tuple'>\n"
     ]
    }
   ],
   "source": [
    "def my_print(*words):\n",
    "    print(words)\n",
    "    print(type(words))\n",
    "\n",
    "my_print('hi', 'hello')"
   ]
  },
  {
   "cell_type": "code",
   "execution_count": 22,
   "id": "d1a74241-ab09-497b-b896-515c9405a6f4",
   "metadata": {},
   "outputs": [],
   "source": [
    "def my_max(*numbers):\n",
    "    result = numbers[0]\n",
    "\n",
    "    for number in numbers:\n",
    "        if result < number:\n",
    "            result = number\n",
    "            \n",
    "    return result"
   ]
  },
  {
   "cell_type": "code",
   "execution_count": 24,
   "id": "1fffc247-9f8f-4aba-834e-9d0f7e100b58",
   "metadata": {},
   "outputs": [
    {
     "name": "stdout",
     "output_type": "stream",
     "text": [
      "5\n",
      "-1\n"
     ]
    }
   ],
   "source": [
    "print(my_max(1, 2, 3, 4, 5))\n",
    "print(my_max(-1, -2, -3, -4, -5))"
   ]
  },
  {
   "cell_type": "markdown",
   "id": "ac010e2d-6baa-4670-b1d9-98cef1febfaa",
   "metadata": {},
   "source": [
    "### 정의되지 않은 키워드 인자 처리하기\n",
    "\n",
    "```python\n",
    "def func(**kwargs):\n",
    "    pass\n",
    "```"
   ]
  },
  {
   "cell_type": "code",
   "execution_count": 26,
   "id": "babf2a81-ff1f-460d-8df4-4790bd0fbaa3",
   "metadata": {},
   "outputs": [
    {
     "name": "stdout",
     "output_type": "stream",
     "text": [
      "{'name': 'hong', 'age': 20}\n"
     ]
    }
   ],
   "source": [
    "info = {\n",
    "    'name': 'hong',\n",
    "    'age': 20\n",
    "}\n",
    "\n",
    "print(info)"
   ]
  },
  {
   "cell_type": "code",
   "execution_count": 28,
   "id": "4d1d2eec-264b-431b-b54e-5a608bb199f7",
   "metadata": {},
   "outputs": [
    {
     "name": "stdout",
     "output_type": "stream",
     "text": [
      "{'name': 'hong', 'age': 20, 'asdf': 1234}\n"
     ]
    }
   ],
   "source": [
    "info = dict(name='hong', age=20, asdf=1234)\n",
    "print(info)"
   ]
  },
  {
   "cell_type": "code",
   "execution_count": 31,
   "id": "3953b4dc-9237-4751-8c40-609f43e8f9d2",
   "metadata": {},
   "outputs": [
    {
     "name": "stdout",
     "output_type": "stream",
     "text": [
      "korean는 안녕입니다.\n",
      "english는 hello입니다.\n"
     ]
    }
   ],
   "source": [
    "def fake_dick(**kwargs):\n",
    "    for key, value in kwargs.items():\n",
    "        print(f'{key}는 {value}입니다.')\n",
    "        \n",
    "fake_dick(korean='안녕', english='hello')"
   ]
  },
  {
   "cell_type": "markdown",
   "id": "91f56654-9790-4716-85a2-53d3b100594d",
   "metadata": {},
   "source": [
    "### 딕셔너리를 인자로 넣기(unpacking)"
   ]
  },
  {
   "cell_type": "code",
   "execution_count": 32,
   "id": "c24e0693-71d3-4d31-81b3-7bb9dbddfb18",
   "metadata": {},
   "outputs": [
    {
     "name": "stdout",
     "output_type": "stream",
     "text": [
      "jsw님 회원가입이 완료되었습니다.\n"
     ]
    }
   ],
   "source": [
    "def sign_up(username, password, password_confirmation):\n",
    "    if password == password_confirmation:\n",
    "        print(f'{username}님 회원가입이 완료되었습니다.')\n",
    "    else:\n",
    "        print('비밀번호가 일치하지 않습니다.')\n",
    "sign_up('jsw', 'qwer', 'qwer')"
   ]
  },
  {
   "cell_type": "code",
   "execution_count": 33,
   "id": "2b88e84b-d19d-482c-9d29-a3addaa6e70e",
   "metadata": {},
   "outputs": [
    {
     "name": "stdout",
     "output_type": "stream",
     "text": [
      "asdf1234님 회원가입이 완료되었습니다.\n"
     ]
    }
   ],
   "source": [
    "my_account = {\n",
    "    'username': 'asdf1234',\n",
    "    'password': 'qwer1234',\n",
    "    'password_confirmation': 'qwer1234',\n",
    "}\n",
    "\n",
    "sign_up(**my_account)"
   ]
  },
  {
   "cell_type": "markdown",
   "id": "d69f8953-f608-4b11-a512-008480d3a0d1",
   "metadata": {},
   "source": [
    "### lambda 표현식\n",
    "\n",
    "```python\n",
    "lambda parameter: expression\n",
    "```"
   ]
  },
  {
   "cell_type": "code",
   "execution_count": 34,
   "id": "34a1ac3b-d610-484c-abcf-6e5e25463d3b",
   "metadata": {},
   "outputs": [
    {
     "data": {
      "text/plain": [
       "3"
      ]
     },
     "execution_count": 34,
     "metadata": {},
     "output_type": "execute_result"
    }
   ],
   "source": [
    "(lambda a, b: a+ b)(1, 2)"
   ]
  },
  {
   "cell_type": "markdown",
   "id": "1d8c9a34-22a6-449e-a81c-8cba3d19c842",
   "metadata": {},
   "source": [
    "### 타입 힌트"
   ]
  },
  {
   "cell_type": "code",
   "execution_count": 37,
   "id": "3e176fe5-eca0-4bec-93ef-030b2c3f1337",
   "metadata": {},
   "outputs": [
    {
     "data": {
      "text/plain": [
       "3"
      ]
     },
     "execution_count": 37,
     "metadata": {},
     "output_type": "execute_result"
    }
   ],
   "source": [
    "def my_sum(num1: int, num2: int) -> int:\n",
    "    return num1 + num2\n",
    "\n",
    "my_sum(1, 2)"
   ]
  },
  {
   "cell_type": "markdown",
   "id": "b66c2f96-09c8-47fa-8754-a17e6f47155e",
   "metadata": {},
   "source": [
    "### 이름공간 (scope)\n",
    "파이썬에서 사용되는 이름들은 이름공간(namespace)에 저장되어있습니다.\n",
    "\n",
    "- Local scope : 정의된 함수 내부\n",
    "- Enclosed scope : 상위 함수\n",
    "- Global scope : 함수 밖의 변수 혹은 import된 모듈\n",
    "- Built-in scope : 파이썬이 기본적으로 가지고 있는 함수 혹은 변수"
   ]
  },
  {
   "cell_type": "code",
   "execution_count": 38,
   "id": "a735a48d-20f4-47fe-b36e-171b3df7be6c",
   "metadata": {},
   "outputs": [
    {
     "name": "stdout",
     "output_type": "stream",
     "text": [
      "123\n"
     ]
    }
   ],
   "source": [
    "str = '123'\n",
    "print(str)"
   ]
  },
  {
   "cell_type": "code",
   "execution_count": 39,
   "id": "d7055c1f-e647-41ba-888b-b3e33b46d43b",
   "metadata": {},
   "outputs": [
    {
     "ename": "TypeError",
     "evalue": "'str' object is not callable",
     "output_type": "error",
     "traceback": [
      "\u001b[1;31m---------------------------------------------------------------------------\u001b[0m",
      "\u001b[1;31mTypeError\u001b[0m                                 Traceback (most recent call last)",
      "Cell \u001b[1;32mIn[39], line 1\u001b[0m\n\u001b[1;32m----> 1\u001b[0m \u001b[38;5;28;43mstr\u001b[39;49m\u001b[43m(\u001b[49m\u001b[38;5;241;43m789\u001b[39;49m\u001b[43m)\u001b[49m\n",
      "\u001b[1;31mTypeError\u001b[0m: 'str' object is not callable"
     ]
    }
   ],
   "source": [
    "str(789)"
   ]
  },
  {
   "cell_type": "code",
   "execution_count": 40,
   "id": "1aa9b915-cfdc-440d-bf72-3063746f28a5",
   "metadata": {},
   "outputs": [],
   "source": [
    "del str"
   ]
  },
  {
   "cell_type": "code",
   "execution_count": 41,
   "id": "5bfeb20e-1e2a-4627-b4e1-116078623172",
   "metadata": {},
   "outputs": [
    {
     "name": "stdout",
     "output_type": "stream",
     "text": [
      "5\n"
     ]
    }
   ],
   "source": [
    "a =1 \n",
    "def localscope(a):\n",
    "    print(a)\n",
    "\n",
    "localscope(5)"
   ]
  },
  {
   "cell_type": "code",
   "execution_count": 43,
   "id": "daffa3d4-f02c-4bb6-8435-e6d62e61cfab",
   "metadata": {},
   "outputs": [
    {
     "name": "stdout",
     "output_type": "stream",
     "text": [
      "20\n",
      "20\n"
     ]
    }
   ],
   "source": [
    "num = 10\n",
    "def scope():\n",
    "    global num\n",
    "    num = 20\n",
    "    print(num)\n",
    "\n",
    "scope()\n",
    "print(num)"
   ]
  },
  {
   "cell_type": "markdown",
   "id": "3441e34e-f67e-41db-9733-0ad799a12bb8",
   "metadata": {},
   "source": [
    "### 재귀 (recursive)\n",
    "재귀 함수는 함수 내부에서 자기 자신을 호출하는 함수를 의미한다."
   ]
  },
  {
   "cell_type": "code",
   "execution_count": 46,
   "id": "e5bc62e3-f01b-4b96-a27a-28d52a5c3072",
   "metadata": {},
   "outputs": [
    {
     "data": {
      "text/plain": [
       "720"
      ]
     },
     "execution_count": 46,
     "metadata": {},
     "output_type": "execute_result"
    }
   ],
   "source": [
    "# 팩토리얼\n",
    "def fact(n):\n",
    "    result = 1\n",
    "    while n > 0:\n",
    "        result *= n\n",
    "        n -= 1\n",
    "    return result\n",
    "\n",
    "fact(6)"
   ]
  },
  {
   "cell_type": "code",
   "execution_count": 48,
   "id": "d51afb14-8b9b-4a00-ac4c-e2e52fc1be90",
   "metadata": {},
   "outputs": [
    {
     "data": {
      "text/plain": [
       "120"
      ]
     },
     "execution_count": 48,
     "metadata": {},
     "output_type": "execute_result"
    }
   ],
   "source": [
    "# 팩토리얼 - 재귀\n",
    "def factorial(n):\n",
    "    if n <= 1:\n",
    "        return 1\n",
    "    else:\n",
    "        return factorial(n-1) * n    # 10! = 9! * 10\n",
    "\n",
    "factorial(5)"
   ]
  },
  {
   "cell_type": "markdown",
   "id": "6c7f8df7-8985-479a-99fe-122772cee56d",
   "metadata": {},
   "source": [
    "### 피보나치 수열 \n",
    "```\n",
    "F(0) = F(1) = 1\n",
    "F(n) = F(n-1) + F(n-2)\n",
    "```"
   ]
  },
  {
   "cell_type": "code",
   "execution_count": 54,
   "id": "90bc136a-86c9-4582-8269-c8540909866f",
   "metadata": {},
   "outputs": [
    {
     "data": {
      "text/plain": [
       "13"
      ]
     },
     "execution_count": 54,
     "metadata": {},
     "output_type": "execute_result"
    }
   ],
   "source": [
    "# 반복문\n",
    "def fib_loop(n):\n",
    "    result = [1, 1]\n",
    "\n",
    "    for i in range(1, n):\n",
    "        end1 = result[-1]            # 리스트 뒤에서 접근\n",
    "        end2 = result[len(result) - 2]        # 리스트 앞에서 접근할 때\n",
    "        fib_num = end1 + end2\n",
    "\n",
    "        result.append(fib_num)\n",
    "        \n",
    "    return result[-1]\n",
    "\n",
    "fib_loop(6)"
   ]
  },
  {
   "cell_type": "code",
   "execution_count": 51,
   "id": "c764390b-ca34-4dfd-be66-be292ac16d04",
   "metadata": {},
   "outputs": [
    {
     "data": {
      "text/plain": [
       "13"
      ]
     },
     "execution_count": 51,
     "metadata": {},
     "output_type": "execute_result"
    }
   ],
   "source": [
    "# 재귀\n",
    "def fib_rec(n):\n",
    "    if n == 0 or n == 1:\n",
    "        return 1\n",
    "    else:\n",
    "        return fib_rec(n-2) + fib_rec(n-1)\n",
    "\n",
    "fib_rec(6)"
   ]
  },
  {
   "cell_type": "code",
   "execution_count": null,
   "id": "ae25d8d2-6daa-4908-9e35-a582e4d3bba6",
   "metadata": {},
   "outputs": [],
   "source": []
  }
 ],
 "metadata": {
  "kernelspec": {
   "display_name": "Python 3 (ipykernel)",
   "language": "python",
   "name": "python3"
  },
  "language_info": {
   "codemirror_mode": {
    "name": "ipython",
    "version": 3
   },
   "file_extension": ".py",
   "mimetype": "text/x-python",
   "name": "python",
   "nbconvert_exporter": "python",
   "pygments_lexer": "ipython3",
   "version": "3.11.4"
  }
 },
 "nbformat": 4,
 "nbformat_minor": 5
}
