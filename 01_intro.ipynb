{
 "cells": [
  {
   "cell_type": "markdown",
   "id": "a7fddab2-a0ea-410d-a75b-f16ce7b94f87",
   "metadata": {},
   "source": [
    "# 01. intro\n",
    "\n",
    "## 단축키\n",
    "\n",
    "- ctrl + enter : 지금 셀 실행\n",
    "- shift + enter : 지금 셀 실행 & 아래로 이동\n",
    "- alt + enter : 지금 셀 실행 & 아래에 새로운 셀 추가\n",
    "\n",
    "## 주의사항\n",
    "\n",
    "1. Apple / apple\n",
    "2. git add . / git add.\n",
    "3. message / massage"
   ]
  },
  {
   "cell_type": "code",
   "execution_count": 2,
   "id": "8f5c9300-2986-4d86-bf78-510da3b03783",
   "metadata": {},
   "outputs": [],
   "source": [
    "# 주석을 나타냅니다."
   ]
  },
  {
   "cell_type": "markdown",
   "id": "014a7375-8fb1-48ed-b63d-a2d0e744f584",
   "metadata": {},
   "source": [
    "# 1. 변수\n",
    "\n",
    "변수이름 = 값\n",
    "\n",
    "- 변수이름은 어떤 이름이든 상관 없음\n",
    "- 다만 영어, 숫자, _ 를 이용하여 선언\n",
    "- 키워드는 사용불가"
   ]
  },
  {
   "cell_type": "code",
   "execution_count": 3,
   "id": "a48d650f-5b06-4b10-b5f9-566df685e490",
   "metadata": {},
   "outputs": [],
   "source": [
    "a = 10"
   ]
  },
  {
   "cell_type": "code",
   "execution_count": 5,
   "id": "90436f1d-cc38-418a-a122-19baddd2db5b",
   "metadata": {},
   "outputs": [
    {
     "data": {
      "text/plain": [
       "10"
      ]
     },
     "execution_count": 5,
     "metadata": {},
     "output_type": "execute_result"
    }
   ],
   "source": [
    "a"
   ]
  },
  {
   "cell_type": "code",
   "execution_count": 6,
   "id": "de44842d-604d-426a-8374-3bf14a79bdb1",
   "metadata": {},
   "outputs": [
    {
     "data": {
      "text/plain": [
       "['False',\n",
       " 'None',\n",
       " 'True',\n",
       " 'and',\n",
       " 'as',\n",
       " 'assert',\n",
       " 'async',\n",
       " 'await',\n",
       " 'break',\n",
       " 'class',\n",
       " 'continue',\n",
       " 'def',\n",
       " 'del',\n",
       " 'elif',\n",
       " 'else',\n",
       " 'except',\n",
       " 'finally',\n",
       " 'for',\n",
       " 'from',\n",
       " 'global',\n",
       " 'if',\n",
       " 'import',\n",
       " 'in',\n",
       " 'is',\n",
       " 'lambda',\n",
       " 'nonlocal',\n",
       " 'not',\n",
       " 'or',\n",
       " 'pass',\n",
       " 'raise',\n",
       " 'return',\n",
       " 'try',\n",
       " 'while',\n",
       " 'with',\n",
       " 'yield']"
      ]
     },
     "execution_count": 6,
     "metadata": {},
     "output_type": "execute_result"
    }
   ],
   "source": [
    "import keyword\n",
    "keyword.kwlist"
   ]
  },
  {
   "cell_type": "markdown",
   "id": "44eccd3f-82cd-46e9-b99d-c59e171fc391",
   "metadata": {},
   "source": [
    "### 1.1 number"
   ]
  },
  {
   "cell_type": "code",
   "execution_count": 7,
   "id": "5b867030-1e16-4ae1-84ad-d0f3afcc9d35",
   "metadata": {},
   "outputs": [],
   "source": [
    "a = 10000000"
   ]
  },
  {
   "cell_type": "code",
   "execution_count": 8,
   "id": "14a18298-779c-4676-882e-da3335881f53",
   "metadata": {},
   "outputs": [
    {
     "data": {
      "text/plain": [
       "10000000"
      ]
     },
     "execution_count": 8,
     "metadata": {},
     "output_type": "execute_result"
    }
   ],
   "source": [
    "a"
   ]
  },
  {
   "cell_type": "code",
   "execution_count": 9,
   "id": "20a61f82-9db9-41f0-876e-81a81cacf790",
   "metadata": {},
   "outputs": [
    {
     "data": {
      "text/plain": [
       "int"
      ]
     },
     "execution_count": 9,
     "metadata": {},
     "output_type": "execute_result"
    }
   ],
   "source": [
    "type(a)"
   ]
  },
  {
   "cell_type": "code",
   "execution_count": 10,
   "id": "f9657ec8-297f-45a2-a09f-d84b97a63c51",
   "metadata": {},
   "outputs": [],
   "source": [
    "b = 1.1"
   ]
  },
  {
   "cell_type": "code",
   "execution_count": 11,
   "id": "9130d8e2-36bf-4ada-a55d-3cffc328cd94",
   "metadata": {},
   "outputs": [
    {
     "data": {
      "text/plain": [
       "1.1"
      ]
     },
     "execution_count": 11,
     "metadata": {},
     "output_type": "execute_result"
    }
   ],
   "source": [
    "b"
   ]
  },
  {
   "cell_type": "code",
   "execution_count": 12,
   "id": "8a05ffad-d000-44d4-923f-52342aa225a6",
   "metadata": {},
   "outputs": [
    {
     "data": {
      "text/plain": [
       "float"
      ]
     },
     "execution_count": 12,
     "metadata": {},
     "output_type": "execute_result"
    }
   ],
   "source": [
    "type(b)"
   ]
  },
  {
   "cell_type": "code",
   "execution_count": 13,
   "id": "583bb4cd-f39f-4e50-bcbf-32e2f0c13ae1",
   "metadata": {},
   "outputs": [],
   "source": [
    "c = 1 - 4j"
   ]
  },
  {
   "cell_type": "code",
   "execution_count": 14,
   "id": "c980ed5b-9d7e-4973-8292-9f1372a1657b",
   "metadata": {},
   "outputs": [
    {
     "data": {
      "text/plain": [
       "(1-4j)"
      ]
     },
     "execution_count": 14,
     "metadata": {},
     "output_type": "execute_result"
    }
   ],
   "source": [
    "c"
   ]
  },
  {
   "cell_type": "code",
   "execution_count": 15,
   "id": "209028e1-43e5-4711-937b-828c6b6b628f",
   "metadata": {},
   "outputs": [
    {
     "data": {
      "text/plain": [
       "complex"
      ]
     },
     "execution_count": 15,
     "metadata": {},
     "output_type": "execute_result"
    }
   ],
   "source": [
    "type(c)"
   ]
  },
  {
   "cell_type": "code",
   "execution_count": 16,
   "id": "1cd90bc6-9732-46ae-88bd-8e566d276c8b",
   "metadata": {},
   "outputs": [
    {
     "data": {
      "text/plain": [
       "-4.0"
      ]
     },
     "execution_count": 16,
     "metadata": {},
     "output_type": "execute_result"
    }
   ],
   "source": [
    "c.imag"
   ]
  },
  {
   "cell_type": "code",
   "execution_count": 17,
   "id": "be541b78-5b04-4a2a-8235-5945f0b5f099",
   "metadata": {},
   "outputs": [
    {
     "data": {
      "text/plain": [
       "1.0"
      ]
     },
     "execution_count": 17,
     "metadata": {},
     "output_type": "execute_result"
    }
   ],
   "source": [
    "c.real"
   ]
  },
  {
   "cell_type": "markdown",
   "id": "2cedc395-60dd-452d-83e8-0fb576e54e6a",
   "metadata": {},
   "source": [
    "### 1.2 Boolean\n",
    "\n",
    "True, False로 이루어진 타입"
   ]
  },
  {
   "cell_type": "code",
   "execution_count": 18,
   "id": "341bb574-ba8f-4854-ac9a-8409679062cc",
   "metadata": {},
   "outputs": [],
   "source": [
    "a = True"
   ]
  },
  {
   "cell_type": "code",
   "execution_count": 19,
   "id": "d21931bb-ec36-4958-aa06-6d46c99fa48b",
   "metadata": {},
   "outputs": [
    {
     "data": {
      "text/plain": [
       "bool"
      ]
     },
     "execution_count": 19,
     "metadata": {},
     "output_type": "execute_result"
    }
   ],
   "source": [
    "type(a)"
   ]
  },
  {
   "cell_type": "code",
   "execution_count": 20,
   "id": "a847efc0-0371-4c9c-845a-18e1303de8ae",
   "metadata": {},
   "outputs": [],
   "source": [
    "b = False"
   ]
  },
  {
   "cell_type": "code",
   "execution_count": 21,
   "id": "9b85c9a1-eeba-4de4-bd1b-c17378d1152e",
   "metadata": {},
   "outputs": [
    {
     "data": {
      "text/plain": [
       "bool"
      ]
     },
     "execution_count": 21,
     "metadata": {},
     "output_type": "execute_result"
    }
   ],
   "source": [
    "type(b)"
   ]
  },
  {
   "cell_type": "markdown",
   "id": "ca3c87d6-b791-49c9-a893-25c9f2524bd8",
   "metadata": {},
   "source": [
    "### 1.3 None"
   ]
  },
  {
   "cell_type": "code",
   "execution_count": 24,
   "id": "c2c16a40-76ae-478a-a32e-08569a5b5c48",
   "metadata": {},
   "outputs": [],
   "source": [
    "a = None"
   ]
  },
  {
   "cell_type": "code",
   "execution_count": 25,
   "id": "ed663a21-3136-418e-aff7-14930f1e64c6",
   "metadata": {},
   "outputs": [
    {
     "data": {
      "text/plain": [
       "NoneType"
      ]
     },
     "execution_count": 25,
     "metadata": {},
     "output_type": "execute_result"
    }
   ],
   "source": [
    "type(a)"
   ]
  },
  {
   "cell_type": "markdown",
   "id": "b0e88f32-02ed-4189-995f-591d5b6472af",
   "metadata": {},
   "source": [
    "### 1.4 String\n",
    "\n",
    "- 문자열은 `'` `\"` 를 이용하여 표현"
   ]
  },
  {
   "cell_type": "code",
   "execution_count": 26,
   "id": "153b2ed9-e567-4c18-ad81-96afcff64fbc",
   "metadata": {},
   "outputs": [],
   "source": [
    "a = 'hello'"
   ]
  },
  {
   "cell_type": "code",
   "execution_count": 27,
   "id": "39a8821f-1563-4c2d-a16a-500d15e827af",
   "metadata": {},
   "outputs": [
    {
     "data": {
      "text/plain": [
       "str"
      ]
     },
     "execution_count": 27,
     "metadata": {},
     "output_type": "execute_result"
    }
   ],
   "source": [
    "type(a)"
   ]
  },
  {
   "cell_type": "code",
   "execution_count": 28,
   "id": "94e66b13-1bc2-4a5b-ab27-fd13940fcbe0",
   "metadata": {},
   "outputs": [],
   "source": [
    "b = \"world\""
   ]
  },
  {
   "cell_type": "code",
   "execution_count": 29,
   "id": "829ead32-edd5-496a-944a-3f737fa8f22a",
   "metadata": {},
   "outputs": [
    {
     "data": {
      "text/plain": [
       "str"
      ]
     },
     "execution_count": 29,
     "metadata": {},
     "output_type": "execute_result"
    }
   ],
   "source": [
    "type(b)"
   ]
  },
  {
   "cell_type": "code",
   "execution_count": 31,
   "id": "bda730ea-e9b2-4f15-86ac-498279f2d9d3",
   "metadata": {},
   "outputs": [
    {
     "name": "stdin",
     "output_type": "stream",
     "text": [
      " 123\n"
     ]
    },
    {
     "name": "stdout",
     "output_type": "stream",
     "text": [
      "123\n",
      "<class 'str'>\n"
     ]
    }
   ],
   "source": [
    "age = input()\n",
    "print(age)\n",
    "print(type(age))"
   ]
  },
  {
   "cell_type": "code",
   "execution_count": 32,
   "id": "e04f2f18-4554-42d5-8041-9cff45357100",
   "metadata": {},
   "outputs": [
    {
     "ename": "SyntaxError",
     "evalue": "invalid syntax. Perhaps you forgot a comma? (4019158887.py, line 1)",
     "output_type": "error",
     "traceback": [
      "\u001b[1;36m  Cell \u001b[1;32mIn[32], line 1\u001b[1;36m\u001b[0m\n\u001b[1;33m    print('안녕하세요? '정승욱'입니다')\u001b[0m\n\u001b[1;37m          ^\u001b[0m\n\u001b[1;31mSyntaxError\u001b[0m\u001b[1;31m:\u001b[0m invalid syntax. Perhaps you forgot a comma?\n"
     ]
    }
   ],
   "source": [
    "print('안녕하세요? '정승욱'입니다')"
   ]
  },
  {
   "cell_type": "code",
   "execution_count": 33,
   "id": "dbc3bd40-9969-4078-acfb-b7fccb2e7627",
   "metadata": {},
   "outputs": [
    {
     "name": "stdout",
     "output_type": "stream",
     "text": [
      "안녕하세요? \"정승욱\"입니다\n"
     ]
    }
   ],
   "source": [
    "print('안녕하세요? \"정승욱\"입니다')"
   ]
  },
  {
   "cell_type": "code",
   "execution_count": 34,
   "id": "6ebcea92-2e14-423b-ac97-e1c6a8c0637b",
   "metadata": {},
   "outputs": [
    {
     "name": "stdout",
     "output_type": "stream",
     "text": [
      "안녕하세요? '정승욱'입니다\n"
     ]
    }
   ],
   "source": [
    "print(\"안녕하세요? '정승욱'입니다\")"
   ]
  },
  {
   "cell_type": "code",
   "execution_count": 35,
   "id": "95679771-9444-4826-aaaa-48954532a9b9",
   "metadata": {},
   "outputs": [
    {
     "name": "stdout",
     "output_type": "stream",
     "text": [
      "안녕하세요? '정승욱'입니다\n"
     ]
    }
   ],
   "source": [
    "print('안녕하세요? \\'정승욱\\'입니다')"
   ]
  },
  {
   "cell_type": "code",
   "execution_count": 36,
   "id": "898d28bd-2060-47aa-8703-61dc984dc8cb",
   "metadata": {},
   "outputs": [],
   "source": [
    "a = '''\n",
    "여기는 문자열입니다.\n",
    "엔터를 쳐서 여러줄을 작성할 수 있습니다.\n",
    "'''"
   ]
  },
  {
   "cell_type": "code",
   "execution_count": 37,
   "id": "fcceffb3-18f2-4351-9fea-7a7a06cc69e8",
   "metadata": {},
   "outputs": [
    {
     "name": "stdout",
     "output_type": "stream",
     "text": [
      "\n",
      "여기는 문자열입니다.\n",
      "엔터를 쳐서 여러줄을 작성할 수 있습니다.\n",
      "\n"
     ]
    }
   ],
   "source": [
    "print(a)"
   ]
  },
  {
   "cell_type": "code",
   "execution_count": 39,
   "id": "6a45798f-7d83-4cb8-a718-a8b46c0ea6b2",
   "metadata": {},
   "outputs": [
    {
     "name": "stdout",
     "output_type": "stream",
     "text": [
      "엔터를 입렵해봐요 \n",
      "다음줄입니다. \t 들여쓰기도 가능합니다\n"
     ]
    }
   ],
   "source": [
    "print('엔터를 입렵해봐요 \\n다음줄입니다. \\t 들여쓰기도 가능합니다')"
   ]
  },
  {
   "cell_type": "code",
   "execution_count": 44,
   "id": "f102c8ca-e3e7-4604-b478-09b9ebb5d648",
   "metadata": {},
   "outputs": [
    {
     "name": "stdout",
     "output_type": "stream",
     "text": [
      "하나!둘!셋\n"
     ]
    }
   ],
   "source": [
    "print('하나', '둘', '셋', sep='!')"
   ]
  },
  {
   "cell_type": "markdown",
   "id": "4ca59eb4-91ff-43a9-a1b9-589c213ae22e",
   "metadata": {},
   "source": [
    "### string interpolation\n",
    "\n",
    "1. %-formatting\n",
    "2. str.format()\n",
    "3. f-string"
   ]
  },
  {
   "cell_type": "code",
   "execution_count": 46,
   "id": "0967a403-3060-4c15-9367-93ea915b5d3c",
   "metadata": {},
   "outputs": [],
   "source": [
    "age = 20"
   ]
  },
  {
   "cell_type": "code",
   "execution_count": 56,
   "id": "22eb072e-df44-40eb-a9b9-ed46e789dfe2",
   "metadata": {},
   "outputs": [
    {
     "name": "stdout",
     "output_type": "stream",
     "text": [
      "홍길동은 20 살입니다.\n"
     ]
    }
   ],
   "source": [
    "print('홍길동은 %s 살입니다.' % age)"
   ]
  },
  {
   "cell_type": "code",
   "execution_count": 49,
   "id": "72931a65-3b1b-43a2-bcdc-1c88a48a34a4",
   "metadata": {},
   "outputs": [
    {
     "name": "stdout",
     "output_type": "stream",
     "text": [
      "홍길동은 20살입니다.\n"
     ]
    }
   ],
   "source": [
    "print('홍길동은 {}살입니다.'.format(age))"
   ]
  },
  {
   "cell_type": "code",
   "execution_count": 57,
   "id": "6e4a5815-761f-4bc8-a4a2-2ea7bd43036f",
   "metadata": {},
   "outputs": [
    {
     "name": "stdout",
     "output_type": "stream",
     "text": [
      "홍길동은 20살입니다.\n"
     ]
    }
   ],
   "source": [
    "print(f'홍길동은 {age}살입니다.')"
   ]
  },
  {
   "cell_type": "code",
   "execution_count": null,
   "id": "a478633f-7c86-4b3b-8bb1-262e569d31a4",
   "metadata": {},
   "outputs": [],
   "source": []
  },
  {
   "cell_type": "code",
   "execution_count": null,
   "id": "8126d716-ac55-4970-b53a-7232618c03db",
   "metadata": {},
   "outputs": [],
   "source": []
  },
  {
   "cell_type": "code",
   "execution_count": null,
   "id": "6440eea7-7cfe-43e9-bf32-d4e774ce3675",
   "metadata": {},
   "outputs": [],
   "source": []
  }
 ],
 "metadata": {
  "kernelspec": {
   "display_name": "Python 3 (ipykernel)",
   "language": "python",
   "name": "python3"
  },
  "language_info": {
   "codemirror_mode": {
    "name": "ipython",
    "version": 3
   },
   "file_extension": ".py",
   "mimetype": "text/x-python",
   "name": "python",
   "nbconvert_exporter": "python",
   "pygments_lexer": "ipython3",
   "version": "3.11.4"
  }
 },
 "nbformat": 4,
 "nbformat_minor": 5
}
