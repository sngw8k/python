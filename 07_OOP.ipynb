{
 "cells": [
  {
   "cell_type": "markdown",
   "id": "0cee9196-4685-45db-8a12-4d0d5f10994c",
   "metadata": {},
   "source": [
    "# 객체지향 프로그래밍(OOP)\n",
    "\n",
    "- 클래스(class) : 같은 종류의 집단에 속하는 속성(attribute)과 행위(method)를 **정의**한 것\n",
    "- 인스턴스(instance) : 클래스를 실제로 메모리상에 할당한 것\n",
    "- 속성(attribute) : 클래스/인스턴스가 가지고 있는 **데이터**/값\n",
    "- 행위(method) : 클래스/인스턴스가 가지고 있는 **함수**/기능"
   ]
  },
  {
   "cell_type": "code",
   "execution_count": 4,
   "id": "b289fd5f-c79d-4da3-905e-31785c8d199f",
   "metadata": {},
   "outputs": [
    {
     "name": "stdout",
     "output_type": "stream",
     "text": [
      "(1+2j)\n"
     ]
    }
   ],
   "source": [
    "number = 1 + 2j\n",
    "print(number)"
   ]
  },
  {
   "cell_type": "code",
   "execution_count": 5,
   "id": "da77abc8-f918-46ae-ad90-28f4694499d6",
   "metadata": {},
   "outputs": [
    {
     "name": "stdout",
     "output_type": "stream",
     "text": [
      "1.0\n",
      "2.0\n"
     ]
    }
   ],
   "source": [
    "print(number.real)\n",
    "print(number.imag)"
   ]
  },
  {
   "cell_type": "code",
   "execution_count": 6,
   "id": "b6776fb2-6a6b-4a73-9c6d-5bc6d4674efa",
   "metadata": {},
   "outputs": [
    {
     "name": "stdout",
     "output_type": "stream",
     "text": [
      "<class 'complex'>\n"
     ]
    }
   ],
   "source": [
    "print(type(number))"
   ]
  },
  {
   "cell_type": "code",
   "execution_count": 7,
   "id": "7dfa3f7c-c4eb-4049-a065-9bada7ddf1b0",
   "metadata": {},
   "outputs": [
    {
     "name": "stdout",
     "output_type": "stream",
     "text": [
      "<class 'list'>\n"
     ]
    }
   ],
   "source": [
    "my_list = [1, 2, 3, 4, 5]\n",
    "print(type(my_list))\n",
    "my_list.sort()"
   ]
  },
  {
   "cell_type": "code",
   "execution_count": 8,
   "id": "4cc77fc5-d4be-4935-89a8-f84fa3f7bf3a",
   "metadata": {},
   "outputs": [],
   "source": [
    "power = False\n",
    "number = '010-1234-1234'\n",
    "book = {\n",
    "    '홍길동': '010-1111-1111',\n",
    "    '이순신': '010-2222-2222',\n",
    "}\n",
    "model = 'iPhone12'"
   ]
  },
  {
   "cell_type": "code",
   "execution_count": 9,
   "id": "df63d553-d081-419a-8b48-4fd8a28192e2",
   "metadata": {},
   "outputs": [],
   "source": [
    "def on():\n",
    "    global power\n",
    "    if power == False:\n",
    "        power = True\n",
    "        print('핸드폰이 켜졌습니다')"
   ]
  },
  {
   "cell_type": "code",
   "execution_count": 10,
   "id": "fef50b3a-e96c-4112-b11e-5b368c6a97ae",
   "metadata": {},
   "outputs": [
    {
     "name": "stdout",
     "output_type": "stream",
     "text": [
      "핸드폰이 켜졌습니다\n"
     ]
    }
   ],
   "source": [
    "on()"
   ]
  },
  {
   "cell_type": "markdown",
   "id": "d4c2db06-a7dd-4f29-bf5a-c07c4d547b3b",
   "metadata": {},
   "source": [
    "## Class\n",
    "\n",
    "- 클래스 선언\n",
    "```python\n",
    "class ClassName:\n",
    "    attribute = value\n",
    "\n",
    "    def method_name(self):\n",
    "        code\n",
    "```\n",
    "\n",
    "- 인스턴스화\n",
    "```python\n",
    "ClassName()\n",
    "```"
   ]
  },
  {
   "cell_type": "code",
   "execution_count": 11,
   "id": "2e2a482d-d63f-421b-abf7-e6504fc7a4d7",
   "metadata": {},
   "outputs": [],
   "source": [
    "# 선언\n",
    "class MyClass:\n",
    "    name = 'kim'\n",
    "\n",
    "    def hello(self):\n",
    "        return 'hello'"
   ]
  },
  {
   "cell_type": "code",
   "execution_count": 12,
   "id": "366fe26a-f0fc-4e8c-b97c-0ea708d3c92f",
   "metadata": {},
   "outputs": [
    {
     "name": "stdout",
     "output_type": "stream",
     "text": [
      "kim\n",
      "hello\n",
      "kim\n",
      "hello\n"
     ]
    }
   ],
   "source": [
    "# 인스턴스화\n",
    "a = MyClass()\n",
    "\n",
    "print(a.name)\n",
    "print(a.hello())\n",
    "\n",
    "b = MyClass()\n",
    "\n",
    "print(b.name)\n",
    "print(b.hello())"
   ]
  },
  {
   "cell_type": "code",
   "execution_count": 13,
   "id": "f4b7e71b-e8cd-43ae-9255-494d8655cb46",
   "metadata": {},
   "outputs": [],
   "source": [
    "class Phone:\n",
    "    power  = False\n",
    "    number = '010-0000-0000'\n",
    "    book = {}\n",
    "    model = ''\n",
    "\n",
    "    def on(self):\n",
    "        if self.power == False:\n",
    "            self.power = True\n",
    "\n",
    "    def off(self):\n",
    "        if self.power == True:\n",
    "            self.power = False\n",
    "\n",
    "    def call(self, target):\n",
    "        if self.power == True:\n",
    "            print(f'내 변호는 {self.number}입니다.')\n",
    "            print(f'{target} 번호로 전화거는중')\n",
    "        else:\n",
    "            print('핸드폰을 켜주세요')"
   ]
  },
  {
   "cell_type": "code",
   "execution_count": 14,
   "id": "109cca14-0f95-425b-bbf3-723403a0f205",
   "metadata": {},
   "outputs": [],
   "source": [
    "my_phone = Phone()\n",
    "your_phone = Phone()"
   ]
  },
  {
   "cell_type": "code",
   "execution_count": 15,
   "id": "20cd6ee4-98b2-463e-bc1d-7a0f3eb04dd4",
   "metadata": {},
   "outputs": [
    {
     "name": "stdout",
     "output_type": "stream",
     "text": [
      "010-1234-1234\n"
     ]
    }
   ],
   "source": [
    "# 번호에 새로운 값 할당\n",
    "\n",
    "my_phone.number = '010-1234-1234'\n",
    "print(my_phone.number)"
   ]
  },
  {
   "cell_type": "code",
   "execution_count": 16,
   "id": "55dbf436-a5ad-4fd3-b1c2-38677731e316",
   "metadata": {},
   "outputs": [
    {
     "data": {
      "text/plain": [
       "'010-0000-0000'"
      ]
     },
     "execution_count": 16,
     "metadata": {},
     "output_type": "execute_result"
    }
   ],
   "source": [
    "your_phone.number"
   ]
  },
  {
   "cell_type": "code",
   "execution_count": 17,
   "id": "f16fa11a-25b5-4485-8810-b9de6d8d5a5c",
   "metadata": {},
   "outputs": [
    {
     "data": {
      "text/plain": [
       "False"
      ]
     },
     "execution_count": 17,
     "metadata": {},
     "output_type": "execute_result"
    }
   ],
   "source": [
    "my_phone.power"
   ]
  },
  {
   "cell_type": "code",
   "execution_count": 18,
   "id": "ffe54d12-82ac-47ce-be3c-5f670fe24cf9",
   "metadata": {},
   "outputs": [
    {
     "data": {
      "text/plain": [
       "True"
      ]
     },
     "execution_count": 18,
     "metadata": {},
     "output_type": "execute_result"
    }
   ],
   "source": [
    "my_phone.on()\n",
    "my_phone.power"
   ]
  },
  {
   "cell_type": "code",
   "execution_count": 19,
   "id": "6ef9d3a2-3fdf-49ab-9e90-a2493576a817",
   "metadata": {},
   "outputs": [
    {
     "name": "stdout",
     "output_type": "stream",
     "text": [
      "내 변호는 010-1234-1234입니다.\n",
      "112 번호로 전화거는중\n"
     ]
    }
   ],
   "source": [
    "my_phone.call('112')"
   ]
  },
  {
   "cell_type": "code",
   "execution_count": 20,
   "id": "37ba787a-66a5-4d5f-b1cd-e0c5e7524f4b",
   "metadata": {},
   "outputs": [],
   "source": [
    "# 연습\n",
    "class MyList:\n",
    "    data = []\n",
    "\n",
    "    def append(self, item):\n",
    "        self.data = self.data + [item]\n",
    "\n",
    "    # data의 제일 마지막 요소를 삭제하고, 삭제한 요소를 리턴\n",
    "    def pop(self):\n",
    "        num = self.data[-1]\n",
    "        self.data = self.data[:-1]\n",
    "        return num\n",
    "        "
   ]
  },
  {
   "cell_type": "code",
   "execution_count": 21,
   "id": "7f85b7e2-51bc-4bf7-9213-097b33b76e74",
   "metadata": {},
   "outputs": [
    {
     "name": "stdout",
     "output_type": "stream",
     "text": [
      "[]\n",
      "[5, 1, 10]\n",
      "10\n",
      "[5, 1]\n"
     ]
    }
   ],
   "source": [
    "list_a = MyList()\n",
    "print(list_a.data)\n",
    "\n",
    "list_a.append(5)\n",
    "list_a.append(1)\n",
    "list_a.append(10)\n",
    "print(list_a.data)\n",
    "\n",
    "print(list_a.pop())\n",
    "print(list_a.data)"
   ]
  },
  {
   "cell_type": "code",
   "execution_count": 22,
   "id": "93f90bbe-d728-48c7-9057-b00c611669a4",
   "metadata": {},
   "outputs": [
    {
     "name": "stdout",
     "output_type": "stream",
     "text": [
      "[]\n",
      "[2, 4, 6]\n"
     ]
    }
   ],
   "source": [
    "list_b = MyList()\n",
    "print(list_b.data)\n",
    "\n",
    "list_b.append(2)\n",
    "list_b.append(4)\n",
    "list_b.append(6)\n",
    "print(list_b.data)"
   ]
  },
  {
   "cell_type": "code",
   "execution_count": 23,
   "id": "74cfe043-6d23-431c-9b3e-0d06a14f50a4",
   "metadata": {},
   "outputs": [
    {
     "data": {
      "text/plain": [
       "'kim'"
      ]
     },
     "execution_count": 23,
     "metadata": {},
     "output_type": "execute_result"
    }
   ],
   "source": [
    "# 정리\n",
    "\n",
    "class Person:          # 클래스 정의(선언) : 클래스 객체 생성\n",
    "    name = 'kim'       # 속성(attribyute) : 변수/값/데이터\n",
    "\n",
    "    def hello(self):   # 행동(method) : 함수/기능\n",
    "        return self.name\n",
    "\n",
    "p = Person()      # 인스턴스화 / 인스턴스 객체를 생성\n",
    "p.name            # 속성을 호출\n",
    "p.hello()         # 메소드를 실행"
   ]
  },
  {
   "cell_type": "code",
   "execution_count": 24,
   "id": "2ad95e38-4067-4cef-ab64-c2821761e5d3",
   "metadata": {},
   "outputs": [
    {
     "name": "stdout",
     "output_type": "stream",
     "text": [
      "현재 상태는약풍\n",
      "현재 상태는중풍\n",
      "현재 상태는강풍\n",
      "현재 상태는꺼짐\n",
      "현재 상태는약풍\n"
     ]
    }
   ],
   "source": [
    "# 선풍기\n",
    "\n",
    "class Fan:\n",
    "    power = ['꺼짐', '약풍', '중풍', '강풍']\n",
    "    status = 0\n",
    "\n",
    "    def button(self):\n",
    "        #self.status += 1\n",
    "        self.status = (self.status + 1) % 4\n",
    "        print(f'현재 상태는{self.power[self.status]}')\n",
    "\n",
    "f = Fan()\n",
    "\n",
    "f.button()\n",
    "f.button()\n",
    "f.button()\n",
    "f.button()\n",
    "f.button()"
   ]
  },
  {
   "cell_type": "code",
   "execution_count": 25,
   "id": "b600238a-1518-4ad0-ba81-82654357f688",
   "metadata": {},
   "outputs": [],
   "source": [
    "class Person:\n",
    "    name = ''\n",
    "\n",
    "    def hello(self):\n",
    "        print(f'나의 이름은 {self.name}입니다.')"
   ]
  },
  {
   "cell_type": "code",
   "execution_count": 26,
   "id": "ec4a10f8-80f0-429c-a1eb-7d960ce925ef",
   "metadata": {},
   "outputs": [
    {
     "name": "stdout",
     "output_type": "stream",
     "text": [
      "\n",
      "나의 이름은 입니다.\n",
      "나의 이름은 kim입니다.\n"
     ]
    }
   ],
   "source": [
    "p = Person()\n",
    "print(p.name)\n",
    "p.hello()\n",
    "p.name = 'kim'\n",
    "p.hello()"
   ]
  },
  {
   "cell_type": "code",
   "execution_count": 27,
   "id": "06566522-b6f8-456c-af0a-6f4c4f7cebec",
   "metadata": {},
   "outputs": [],
   "source": [
    "# self : 인스턴스 객체 자기자식 (다른언어에서는 this)\n",
    "# - 특별한 상황을 제외하고는 무조건 메소드의 첫번째 인자로 설정한다.\n",
    "# - 인스턴스 메소드를 실행 할 때 자동으로 첫번째 인자에 인스턴스를 할당한다."
   ]
  },
  {
   "cell_type": "code",
   "execution_count": 28,
   "id": "6e33be87-c0c8-4967-be25-e65e368129d3",
   "metadata": {},
   "outputs": [
    {
     "name": "stdout",
     "output_type": "stream",
     "text": [
      "나의 이름은 입니다.\n",
      "나의 이름은 입니다.\n"
     ]
    }
   ],
   "source": [
    "p1 = Person()\n",
    "# self 매개변수 자리에 p1이라고하는 인스턴스 객체가 인자로 전달\n",
    "Person.hello(p1)\n",
    "# p1인스턴스 객체에서부터 메소드가 실행되기 때문에 self == p1\n",
    "p1.hello()"
   ]
  },
  {
   "cell_type": "markdown",
   "id": "e08a7c67-df59-434c-ae1c-0c6e1e8486cd",
   "metadata": {},
   "source": [
    "## 생성자, 소멸자\n",
    "```python\n",
    "class MyClass:\n",
    "    def __init__(self):\n",
    "        pass\n",
    "\n",
    "    def __del__(self):\n",
    "        pass\n",
    "```"
   ]
  },
  {
   "cell_type": "code",
   "execution_count": 31,
   "id": "b768ad74-09cc-44ce-b5db-3f3f47499e32",
   "metadata": {},
   "outputs": [],
   "source": [
    "class Person:\n",
    "    name = 'noname'\n",
    "\n",
    "    def __init__(self, name= '익명'):\n",
    "        self.name = name\n",
    "        print('생성됨')\n",
    "\n",
    "    def __del__(self):\n",
    "        print('소멸됨')"
   ]
  },
  {
   "cell_type": "code",
   "execution_count": 34,
   "id": "8dc04761-7258-4e86-bf35-5bf14b6e1247",
   "metadata": {},
   "outputs": [
    {
     "name": "stdout",
     "output_type": "stream",
     "text": [
      "생성됨\n",
      "소멸됨\n",
      "hong\n"
     ]
    }
   ],
   "source": [
    "p1 = Person()           # Person.__init__(p1, )\n",
    "p1.name = 'hong'\n",
    "print(p1.name)\n"
   ]
  },
  {
   "cell_type": "code",
   "execution_count": 35,
   "id": "045c35dd-8669-4192-ab3c-fd2ba6527cc0",
   "metadata": {},
   "outputs": [
    {
     "name": "stdout",
     "output_type": "stream",
     "text": [
      "생성됨\n",
      "소멸됨\n",
      "kim\n"
     ]
    }
   ],
   "source": [
    "p2 = Person('kim')      # Person.__init__(p2, 'kim')\n",
    "print(p2.name)"
   ]
  },
  {
   "cell_type": "code",
   "execution_count": 54,
   "id": "159e4169-c5b7-494d-bd65-53455589e096",
   "metadata": {},
   "outputs": [],
   "source": [
    "# Circle 클래스\n",
    "\n",
    "class Circle:\n",
    "    pi = 3.14\n",
    "\n",
    "    def __init__(self, r, x_point=0, y_point=0):      # x, y 기본값 설정\n",
    "        self.r = r \n",
    "        self.x = x_point\n",
    "        self.y = y_point\n",
    "\n",
    "    def area(self):\n",
    "        return self.pi * self.r ** 2 \n",
    "\n",
    "    def move(self, x, y):\n",
    "        self.x = x\n",
    "        self.y = y\n",
    "        print(f'원의 중심이 {x},{y}로 이동했습니다.')\n",
    "\n",
    "    def center(self):        \n",
    "        return (self.x, self.y)       # 원의 중심을 (x, y)로 반환 \n",
    "    "
   ]
  },
  {
   "cell_type": "code",
   "execution_count": 55,
   "id": "1446a324-093b-4e3f-958f-85f368f3a6a8",
   "metadata": {},
   "outputs": [
    {
     "name": "stdout",
     "output_type": "stream",
     "text": [
      "5\n",
      "3\n",
      "28.26\n",
      "원의 중심이 -3,-3로 이동했습니다.\n",
      "(-3, -3)\n",
      "0\n",
      "10\n",
      "314.0\n",
      "원의 중심이 10,10로 이동했습니다.\n",
      "(10, 10)\n"
     ]
    }
   ],
   "source": [
    "c1 = Circle(3, 5, 5)\n",
    "print(c1.x)\n",
    "print(c1.r)\n",
    "print(c1.area())\n",
    "c1.move(-3, -3)\n",
    "print(c1.center())\n",
    "\n",
    "c2 = Circle(10)        # x, y 에는 기본값 0이 들어감\n",
    "print(c2.x)\n",
    "print(c2.r)\n",
    "print(c2.area())\n",
    "c2.move(10, 10)\n",
    "print(c2.center())"
   ]
  },
  {
   "cell_type": "markdown",
   "id": "13f642b1-78f1-45ab-8b9e-053aff76b823",
   "metadata": {},
   "source": [
    "### 클래스변수 \n",
    "- 클래스 선언 블록 최상단에 위치\n",
    "\n",
    "### 인스턴스변수\n",
    "- 인스턴스 내부에서 생성한 변수 (self.variable = )\n",
    "\n",
    "```python\n",
    "class TestClass:\n",
    "    class_variavle = '클래스변수'\n",
    "\n",
    "    def __inti__(self, arg):\n",
    "        self.instance_variable = '인스턴스변수'\n",
    "\n",
    "    def status(self)\n",
    "        return self.instance_variable\n",
    "```"
   ]
  },
  {
   "cell_type": "code",
   "execution_count": 63,
   "id": "e7f1d332-a0d3-4479-acf3-b25533f51ec8",
   "metadata": {},
   "outputs": [],
   "source": [
    "class Person:\n",
    "    name = 'hong'\n",
    "    phone = '010-1234-1234'\n",
    "\n",
    "    def __init__(self, name):\n",
    "        self.name = name"
   ]
  },
  {
   "cell_type": "code",
   "execution_count": 65,
   "id": "2ff34303-340d-4282-a8ec-9118c4479444",
   "metadata": {},
   "outputs": [
    {
     "name": "stdout",
     "output_type": "stream",
     "text": [
      "kim\n",
      "hong\n",
      "010-1234-1234\n"
     ]
    }
   ],
   "source": [
    "p = Person('kim')\n",
    "print(p.name)            # 인스턴스 변수 접근\n",
    "print(Person.name)       # 클래스 변수 접근\n",
    "\n",
    "print(p.phone)"
   ]
  },
  {
   "cell_type": "markdown",
   "id": "041368aa-608a-4c96-b1c0-0432b55624ba",
   "metadata": {},
   "source": [
    "### 클래스메소드, 인스턴스메소드, 스태틱메소드\n",
    "\n",
    "```python\n",
    "class MyClass:\n",
    "    def instance_method(self):\n",
    "        pass\n",
    "\n",
    "    @classmethod\n",
    "    def class_method(cls):\n",
    "        pass\n",
    "\n",
    "    @staticmethod\n",
    "    def static_method():\n",
    "        pass\n",
    "\n",
    "```"
   ]
  },
  {
   "cell_type": "code",
   "execution_count": 66,
   "id": "01ec63c3-6757-436d-a1c0-495bc9f11c5a",
   "metadata": {},
   "outputs": [],
   "source": [
    "class MyClass:\n",
    "    def instance_method(self):\n",
    "        return self\n",
    "\n",
    "    @classmethod\n",
    "    def class_method(cls):\n",
    "        return cls\n",
    "\n",
    "    @staticmethod\n",
    "    def static_method():\n",
    "        return 'hello'"
   ]
  },
  {
   "cell_type": "code",
   "execution_count": 70,
   "id": "bfdae485-882a-44c6-adc9-860bef4674fe",
   "metadata": {},
   "outputs": [
    {
     "name": "stdout",
     "output_type": "stream",
     "text": [
      "<__main__.MyClass object at 0x000001A2B3428810>\n",
      "<class '__main__.MyClass'>\n",
      "<bound method MyClass.class_method of <class '__main__.MyClass'>>\n",
      "hello\n"
     ]
    }
   ],
   "source": [
    "c1 = MyClass()\n",
    "\n",
    "print(c1.instance_method())\n",
    "print(MyClass.class_method())\n",
    "print(c1.class_method)\n",
    "print(c1.static_method())"
   ]
  },
  {
   "cell_type": "code",
   "execution_count": 79,
   "id": "a8b367e4-949d-4bdb-98ea-1e83c3faeb32",
   "metadata": {},
   "outputs": [],
   "source": [
    "class Puppy:\n",
    "    num_of_puppy = 0\n",
    "\n",
    "    def __init__(self, name):\n",
    "        self.name = name\n",
    "        Puppy.num_of_puppy += 1\n",
    "\n",
    "    @classmethod\n",
    "    def get_status(cls):\n",
    "        return f'현재 강아지는 {cls.num_of_puppy}마리 입니다.'\n",
    "\n",
    "    @staticmethod\n",
    "    def bark(string='멍멍'):\n",
    "        return string        "
   ]
  },
  {
   "cell_type": "code",
   "execution_count": 81,
   "id": "3a092fc6-420f-432c-98fc-875a4d27daea",
   "metadata": {},
   "outputs": [
    {
     "name": "stdout",
     "output_type": "stream",
     "text": [
      "6\n",
      "6\n",
      "6\n",
      "현재 강아지는 6마리 입니다.\n",
      "멍멍\n",
      "그르릉\n"
     ]
    }
   ],
   "source": [
    "p1 = Puppy('또또')\n",
    "p2 = Puppy('몽이')\n",
    "p3 = Puppy('흰둥이')\n",
    "\n",
    "print(p1.num_of_puppy)\n",
    "print(p2.num_of_puppy)\n",
    "print(Puppy.num_of_puppy)\n",
    "\n",
    "print(Puppy.get_status())\n",
    "\n",
    "print(p1.bark())\n",
    "print(p2.bark('그르릉'))"
   ]
  },
  {
   "cell_type": "markdown",
   "id": "71844df6-be5a-4eeb-8f03-c9448e56d3b0",
   "metadata": {},
   "source": [
    "## 상속"
   ]
  },
  {
   "cell_type": "code",
   "execution_count": 83,
   "id": "85e9145d-920f-4a4e-8042-2b0daacb9550",
   "metadata": {},
   "outputs": [],
   "source": [
    "class Person:\n",
    "\n",
    "    def __init__(self, name):\n",
    "        self.name = name\n",
    "\n",
    "    def greeting(self):\n",
    "        print(f'안녕하세요 {self.name}입니다.')"
   ]
  },
  {
   "cell_type": "code",
   "execution_count": 84,
   "id": "5abe1e4f-de6a-4daf-8e7b-29a6700f6d43",
   "metadata": {},
   "outputs": [
    {
     "name": "stdout",
     "output_type": "stream",
     "text": [
      "안녕하세요 홍길동입니다.\n"
     ]
    }
   ],
   "source": [
    "p1 = Person('홍길동')\n",
    "p2 = Person('이순신')\n",
    "\n",
    "p1.greeting()"
   ]
  },
  {
   "cell_type": "code",
   "execution_count": 87,
   "id": "2badf940-5f0a-45ed-97ca-4edd8c4263d1",
   "metadata": {},
   "outputs": [],
   "source": [
    "class Student(Person):\n",
    "    def __init__(self, name, student_id):\n",
    "        self.name = name\n",
    "        self.student_id = student_id"
   ]
  },
  {
   "cell_type": "code",
   "execution_count": 89,
   "id": "aee48339-0a62-4589-913f-817aa2debfa4",
   "metadata": {},
   "outputs": [
    {
     "name": "stdout",
     "output_type": "stream",
     "text": [
      "안녕하세요 kim입니다.\n",
      "12345\n"
     ]
    }
   ],
   "source": [
    "s1 = Student('kim', 12345)\n",
    "s2 = Student('park', 98765)\n",
    "\n",
    "s1.greeting()\n",
    "print(s1.student_id)"
   ]
  },
  {
   "cell_type": "code",
   "execution_count": 90,
   "id": "83cf49af-80f0-433e-b635-e636a031f37a",
   "metadata": {},
   "outputs": [],
   "source": [
    "class Soldier(Person):\n",
    "\n",
    "    def greeting(self):\n",
    "        return f'충성! {self.name}입니다.'"
   ]
  },
  {
   "cell_type": "code",
   "execution_count": 91,
   "id": "6e7a76d5-cccc-4a64-b320-49a068bd2cc0",
   "metadata": {},
   "outputs": [
    {
     "data": {
      "text/plain": [
       "'충성! 국방이입니다.'"
      ]
     },
     "execution_count": 91,
     "metadata": {},
     "output_type": "execute_result"
    }
   ],
   "source": [
    "s1 = Soldier('국방이')\n",
    "s1.greeting()"
   ]
  },
  {
   "cell_type": "code",
   "execution_count": 96,
   "id": "dd9e996a-f619-48d9-befb-2e9c33025606",
   "metadata": {},
   "outputs": [],
   "source": [
    "class Person:\n",
    "    def __init__(self, email, phone, location, name):\n",
    "        self.email = email\n",
    "        self.phone = phone\n",
    "        self.location = location\n",
    "        self.name = name\n",
    "\n",
    "class Student(Person):\n",
    "    def __init__(self, email, phone, location, name, student_id):\n",
    "        self.email = email\n",
    "        self.phone = phone\n",
    "        self.location = location\n",
    "        self.name = name\n",
    "        self.student_id = student_id\n",
    "\n",
    "class Soldier(Person):\n",
    "    def __init__(self, email, phone, location, name, soldier_id):\n",
    "        super().__init__(email, phone, location, name)   #=>부모클래스 (Person)\n",
    "        self.soldier_id = soldier_id"
   ]
  },
  {
   "cell_type": "code",
   "execution_count": 98,
   "id": "1d331c7a-7714-4117-91d6-7b9134673a8e",
   "metadata": {},
   "outputs": [
    {
     "name": "stdout",
     "output_type": "stream",
     "text": [
      "kim\n",
      "12345\n"
     ]
    }
   ],
   "source": [
    "s1 = Soldier('email@email.com', '010-1234', 'seoul', 'kim', '12345')\n",
    "print(s1.name)\n",
    "print(s1.soldier_id)"
   ]
  },
  {
   "cell_type": "code",
   "execution_count": 111,
   "id": "c85b0191-17c0-4a50-8394-d065a1fb359f",
   "metadata": {},
   "outputs": [],
   "source": [
    "class Person:\n",
    "    def __init__(self, name):\n",
    "        self.name = name\n",
    "\n",
    "    def breath(self):\n",
    "        print('후하')"
   ]
  },
  {
   "cell_type": "code",
   "execution_count": 112,
   "id": "540b2604-fd17-450a-ae7b-748237cbf3c0",
   "metadata": {},
   "outputs": [],
   "source": [
    "class Mom(Person):\n",
    "    gene = 'xx'\n",
    "\n",
    "    def swim(self):\n",
    "        print('어푸어푸')"
   ]
  },
  {
   "cell_type": "code",
   "execution_count": 113,
   "id": "a1928898-705c-468b-9af7-e2fe2d0e0652",
   "metadata": {},
   "outputs": [],
   "source": [
    "class Dad(Person):\n",
    "    gene = 'xy'\n",
    "\n",
    "    def run(self):\n",
    "        print('다다다')"
   ]
  },
  {
   "cell_type": "code",
   "execution_count": 114,
   "id": "1f16d3c7-eef4-4276-82ce-d7d919e5d1ce",
   "metadata": {},
   "outputs": [],
   "source": [
    "class Baby(Dad, Mom):\n",
    "    pass"
   ]
  },
  {
   "cell_type": "code",
   "execution_count": 116,
   "id": "0aeffba7-8083-471d-b3c1-f240d80fd5f2",
   "metadata": {},
   "outputs": [
    {
     "name": "stdout",
     "output_type": "stream",
     "text": [
      "후하\n",
      "어푸어푸\n",
      "다다다\n",
      "xy\n"
     ]
    }
   ],
   "source": [
    "b = Baby('금쪽이')\n",
    "b.breath()\n",
    "b.swim()\n",
    "b.run()\n",
    "\n",
    "# 다중상속을 한 경우 먼저 상속받은 데이터/메소드가 우선\n",
    "print(b.gene)"
   ]
  },
  {
   "cell_type": "code",
   "execution_count": 176,
   "id": "721325a8-eca4-45df-9801-ac82aec34469",
   "metadata": {},
   "outputs": [],
   "source": [
    "# 포켓몬 클래스\n",
    "\n",
    "class Pocketmon:\n",
    "    def __init__(self, name, type, level, hp):\n",
    "        self.name = name\n",
    "        self.type = type\n",
    "        self.level = level\n",
    "        self.hp = hp\n",
    "\n",
    "    def skill(self, basic='몸통박치기', dodge='피하기'):\n",
    "        self.basic = basic\n",
    "        self.dodge = dodge\n",
    "        self.skills = [basic, dodge]\n",
    "        return self.skills\n",
    "    \n",
    "    def eat(self):\n",
    "        self.hp += 5\n",
    "        print('Hp가 5 회복되었습니다.')\n",
    "\n",
    "    def training(self):\n",
    "        self.level += 1\n",
    "        print('level이 올랐습니다')\n",
    "        \n",
    "class Pikachu(Pocketmon):\n",
    "\n",
    "    def skill(self, elec_shock, basic='몸통박치기', dodge='피하기'):\n",
    "        super().skill(basic, dodge)\n",
    "        self.skills.append(elec_shock)\n",
    "        return self.skills\n",
    "        # self.elec_shock = elec_shock\n",
    "        # print(f'My skills are {self.basic}, {self.dodge}, {self.elec_shock}')\n",
    "\n",
    "class Charizard(Pocketmon):\n",
    "\n",
    "    def skill(self, fire, basic='몸통박치기', dodge='피하기'):\n",
    "        super().skill(basic, dodge)\n",
    "        self.skills.append(fire)\n",
    "        return self.skills"
   ]
  },
  {
   "cell_type": "code",
   "execution_count": 168,
   "id": "8ef7255e-0703-45fc-b64c-8a903feab4e5",
   "metadata": {},
   "outputs": [
    {
     "name": "stdout",
     "output_type": "stream",
     "text": [
      "바람\n",
      "3\n",
      "['몸통박치기', '피하기']\n",
      "Hp가 5 회복되었습니다.\n",
      "35\n"
     ]
    }
   ],
   "source": [
    "p1 = Pocketmon('피죤', '바람', 3, 30)\n",
    "\n",
    "print(p1.type)\n",
    "print(p1.level)\n",
    "print(p1.skill())\n",
    "p1.eat()\n",
    "print(p1.hp)"
   ]
  },
  {
   "cell_type": "code",
   "execution_count": 172,
   "id": "67583591-fc4a-427f-8b10-d7709bbcf235",
   "metadata": {
    "jupyter": {
     "source_hidden": true
    }
   },
   "outputs": [
    {
     "name": "stdout",
     "output_type": "stream",
     "text": [
      "전기\n",
      "5\n",
      "['몸통박치기', '피하기', '전기충격']\n"
     ]
    }
   ],
   "source": [
    "p2 = Pikachu('피카츄', '전기', 5, 40)\n",
    "\n",
    "print(p2.type)\n",
    "print(p2.level)\n",
    "print(p2.skill('전기충격'))"
   ]
  },
  {
   "cell_type": "code",
   "execution_count": 175,
   "id": "22516d67-271d-4519-b51a-aecccca25476",
   "metadata": {},
   "outputs": [
    {
     "name": "stdout",
     "output_type": "stream",
     "text": [
      "['몸통박치기', '피하기', '화염발사']\n"
     ]
    }
   ],
   "source": [
    "p3 = Charizard('리자몽', '불', 20, 150)\n",
    "\n",
    "print(p2.skill('화염발사'))"
   ]
  },
  {
   "cell_type": "code",
   "execution_count": null,
   "id": "539d6726-7d22-49b4-b2ac-58a3e1f49e87",
   "metadata": {},
   "outputs": [],
   "source": []
  }
 ],
 "metadata": {
  "kernelspec": {
   "display_name": "Python 3 (ipykernel)",
   "language": "python",
   "name": "python3"
  },
  "language_info": {
   "codemirror_mode": {
    "name": "ipython",
    "version": 3
   },
   "file_extension": ".py",
   "mimetype": "text/x-python",
   "name": "python",
   "nbconvert_exporter": "python",
   "pygments_lexer": "ipython3",
   "version": "3.11.4"
  }
 },
 "nbformat": 4,
 "nbformat_minor": 5
}
